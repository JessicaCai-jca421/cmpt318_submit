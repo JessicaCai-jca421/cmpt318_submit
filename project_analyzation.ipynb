{
 "cells": [
  {
   "cell_type": "code",
   "execution_count": 1,
   "metadata": {
    "collapsed": true
   },
   "outputs": [],
   "source": [
    "import numpy as np\n",
    "import pandas as pd\n",
    "import matplotlib.pyplot as plt\n",
    "import sys"
   ]
  },
  {
   "cell_type": "code",
   "execution_count": 2,
   "metadata": {
    "collapsed": true
   },
   "outputs": [],
   "source": [
    "from sklearn.pipeline import make_pipeline\n",
    "from sklearn.preprocessing import MinMaxScaler"
   ]
  },
  {
   "cell_type": "code",
   "execution_count": 3,
   "metadata": {
    "collapsed": true
   },
   "outputs": [],
   "source": [
    "from sklearn.preprocessing import StandardScaler\n",
    "from sklearn.decomposition import PCA\n",
    "from sklearn.cluster import KMeans\n",
    "from sklearn import model_selection"
   ]
  },
  {
   "cell_type": "code",
   "execution_count": 4,
   "metadata": {
    "collapsed": true
   },
   "outputs": [],
   "source": [
    "from sklearn.svm import SVC\n",
    "from sklearn.neighbors import KNeighborsClassifier\n",
    "from sklearn.naive_bayes import GaussianNB"
   ]
  },
  {
   "cell_type": "code",
   "execution_count": 5,
   "metadata": {
    "collapsed": true
   },
   "outputs": [],
   "source": [
    "import math"
   ]
  },
  {
   "cell_type": "code",
   "execution_count": 6,
   "metadata": {
    "collapsed": true
   },
   "outputs": [],
   "source": [
    "from sklearn.neural_network import MLPClassifier"
   ]
  },
  {
   "cell_type": "code",
   "execution_count": 7,
   "metadata": {
    "collapsed": true
   },
   "outputs": [],
   "source": [
    "from scipy import stats"
   ]
  },
  {
   "cell_type": "code",
   "execution_count": 8,
   "metadata": {
    "collapsed": true
   },
   "outputs": [],
   "source": [
    "def get_clusters(X):\n",
    "    \"\"\"\n",
    "    Find clusters of the weather data.\n",
    "    \"\"\"\n",
    "    model = make_pipeline(\n",
    "        KMeans(n_clusters=2)\n",
    "    )\n",
    "    model.fit(X)\n",
    "    return model.predict(X)\n"
   ]
  },
  {
   "cell_type": "code",
   "execution_count": 9,
   "metadata": {
    "collapsed": true
   },
   "outputs": [],
   "source": [
    "def get_pca(X):\n",
    "    \"\"\"\n",
    "    Transform data to 2D points for plotting. Should return an array with shape (n, 2).\n",
    "    \"\"\"\n",
    "    flatten_model = make_pipeline(\n",
    "        PCA(n_components=250)\n",
    "    )\n",
    "    X = flatten_model.fit_transform(X)\n",
    "    assert X.shape == (X.shape[0], 250)\n",
    "    return X"
   ]
  },
  {
   "cell_type": "code",
   "execution_count": 10,
   "metadata": {
    "collapsed": true
   },
   "outputs": [],
   "source": [
    "data = pd.read_csv('image_labeled.csv')"
   ]
  },
  {
   "cell_type": "code",
   "execution_count": 11,
   "metadata": {
    "collapsed": true
   },
   "outputs": [],
   "source": [
    "df2 = data"
   ]
  },
  {
   "cell_type": "code",
   "execution_count": 12,
   "metadata": {
    "collapsed": true,
    "scrolled": true
   },
   "outputs": [],
   "source": [
    "# use pandas build in function to add column \"if_none\"\n",
    "# True when weather is none\n",
    "ans = pd.isnull(df2['weather'])\n",
    "df2['if_none'] = ans\n"
   ]
  },
  {
   "cell_type": "code",
   "execution_count": 13,
   "metadata": {
    "collapsed": true,
    "scrolled": true
   },
   "outputs": [],
   "source": [
    "weather = df2['weather']\n",
    "if_none = df2.iloc[:,-1]\n",
    "weather = np.array(weather)\n",
    "edge1 = np.array(df2['edge_count'])\n",
    "lum1 = np.array(df2['avg_l'])\n",
    "\n",
    "collect = []\n",
    "for i in range (0,len(if_none)):\n",
    "    if not(if_none[i]):\n",
    "        collect.append(i)\n"
   ]
  },
  {
   "cell_type": "markdown",
   "metadata": {},
   "source": [
    "# plot histogram"
   ]
  },
  {
   "cell_type": "code",
   "execution_count": 14,
   "metadata": {
    "collapsed": true
   },
   "outputs": [],
   "source": [
    "X_edge = edge1[collect]\n",
    "y_edge = weather[collect]\n"
   ]
  },
  {
   "cell_type": "code",
   "execution_count": 15,
   "metadata": {
    "collapsed": true
   },
   "outputs": [],
   "source": [
    "X_lum = lum1[collect]\n",
    "y_lum = weather[collect]\n"
   ]
  },
  {
   "cell_type": "code",
   "execution_count": 16,
   "metadata": {
    "scrolled": false
   },
   "outputs": [
    {
     "name": "stdout",
     "output_type": "stream",
     "text": [
      "2602.40595238 1722.99553571 876.255354201\n"
     ]
    },
    {
     "data": {
      "image/png": "[encoded data removed]",
      "text/plain": [
       "<matplotlib.figure.Figure at 0x2145b780438>"
      ]
     },
     "metadata": {},
     "output_type": "display_data"
    }
   ],
   "source": [
    "cloud_collect = []\n",
    "other_collect = []\n",
    "for j in range (0,len(X_edge)):\n",
    "    if (y_edge[j] == 'Cloudy'):\n",
    "        cloud_collect.append(j)\n",
    "    else:\n",
    "        other_collect.append(j)\n",
    "clear_collect = []\n",
    "for j in range (0,len(X_edge)):\n",
    "    if (y_edge[j] == 'Clear'):\n",
    "        clear_collect.append(j)\n",
    "\n",
    "rain_collect = []\n",
    "for j in range (0,len(X_edge)):\n",
    "    if (y_edge[j] == 'Rain'):\n",
    "        rain_collect.append(j)\n",
    "        \n",
    "X_edge_cloud = X_edge[cloud_collect]+1\n",
    "X_edge_other = X_edge[other_collect]+1\n",
    "X_edge_clear = X_edge[clear_collect]+1\n",
    "X_edge_rain = X_edge[rain_collect]+1\n",
    "\n",
    "X_edge_cloud_root = np.sqrt(X_edge_cloud)\n",
    "X_edge_clear_root = np.sqrt(X_edge_clear)\n",
    "X_edge_rain_root = np.sqrt(X_edge_rain)\n",
    "\n",
    "\n",
    "\n",
    "y_edge_cloud = y_edge[cloud_collect]\n",
    "y_edge_other = y_edge[other_collect]\n",
    "\n",
    "print(np.mean(X_edge_cloud),\n",
    "np.mean(X_edge_clear),\n",
    "np.mean(X_edge_rain))\n",
    "\n",
    "plt.xlabel('Edge Count')\n",
    "plt.ylabel('occurance')\n",
    "plt.hist(X_edge_cloud_root,bins  = 100,color = 'red',alpha=0.5)\n",
    "#plt.show()\n",
    "plt.xlabel('Edge Count')\n",
    "plt.ylabel('occurance')\n",
    "plt.hist(X_edge_clear_root,bins  = 100,color = 'green',alpha=0.5)\n",
    "#plt.show()\n",
    "plt.xlabel('Edge Count')\n",
    "plt.ylabel('occurance')\n",
    "plt.hist(X_edge_rain_root,bins  = 100,color = 'blue',alpha=0.5)\n",
    "plt.legend(['cloud','clear','rain'])\n",
    "plt.show()"
   ]
  },
  {
   "cell_type": "code",
   "execution_count": 17,
   "metadata": {},
   "outputs": [
    {
     "name": "stdout",
     "output_type": "stream",
     "text": [
      "170.701095466 148.586511183 177.869720648\n"
     ]
    },
    {
     "data": {
      "image/png": "[encoded data removed]",
      "text/plain": [
       "<matplotlib.figure.Figure at 0x214ddd6ffd0>"
      ]
     },
     "metadata": {},
     "output_type": "display_data"
    }
   ],
   "source": [
    "cloud_collect = []\n",
    "other_collect = []\n",
    "for j in range (0,len(X_lum)):\n",
    "    if (y_lum[j] == 'Cloudy'):\n",
    "        cloud_collect.append(j)\n",
    "    else:\n",
    "        other_collect.append(j)\n",
    "clear_collect = []\n",
    "for j in range (0,len(X_lum)):\n",
    "    if (y_lum[j] == 'Clear'):\n",
    "        clear_collect.append(j)\n",
    "\n",
    "rain_collect = []\n",
    "for j in range (0,len(X_lum)):\n",
    "    if (y_lum[j] == 'Rain'):\n",
    "        rain_collect.append(j)\n",
    "        \n",
    "X_lum_cloud = X_lum[cloud_collect]+1\n",
    "X_lum_other = X_lum[other_collect]+1\n",
    "X_lum_clear = X_lum[clear_collect]+1\n",
    "X_lum_rain = X_lum[rain_collect]+1\n",
    "\n",
    "y_lum_cloud = y_lum[cloud_collect]\n",
    "y_lum_other = y_lum[other_collect]\n",
    "\n",
    "print(np.mean(X_lum_cloud),\n",
    "np.mean(X_lum_clear),\n",
    "np.mean(X_lum_rain))\n",
    "\n",
    "plt.xlabel('Lum value')\n",
    "plt.ylabel('occurance')\n",
    "plt.hist(X_lum_cloud,bins  = 100,color = 'red',alpha=0.5)\n",
    "#plt.show()\n",
    "plt.xlabel('Lum value')\n",
    "plt.ylabel('occurance')\n",
    "plt.hist(X_lum_clear,bins  = 100,color = 'green',alpha=0.5)\n",
    "#plt.show()\n",
    "plt.xlabel('Lum value')\n",
    "plt.ylabel('occurance')\n",
    "plt.hist(X_lum_rain,bins  = 100,color = 'blue',alpha=0.5)\n",
    "plt.legend(['cloud','clear','rain'])\n",
    "\n",
    "plt.show()"
   ]
  },
  {
   "cell_type": "code",
   "execution_count": 18,
   "metadata": {},
   "outputs": [
    {
     "data": {
      "text/plain": [
       "LeveneResult(statistic=222.80600119279944, pvalue=5.7741442431198953e-47)"
      ]
     },
     "execution_count": 18,
     "metadata": {},
     "output_type": "execute_result"
    }
   ],
   "source": [
    "stats.levene(X_edge_cloud,X_edge_rain)"
   ]
  },
  {
   "cell_type": "code",
   "execution_count": 19,
   "metadata": {},
   "outputs": [
    {
     "data": {
      "text/plain": [
       "Ttest_indResult(statistic=16.269570672341008, pvalue=8.2798625189416448e-56)"
      ]
     },
     "execution_count": 19,
     "metadata": {},
     "output_type": "execute_result"
    }
   ],
   "source": [
    "stats.ttest_ind(X_edge_cloud,X_edge_other)"
   ]
  },
  {
   "cell_type": "markdown",
   "metadata": {},
   "source": [
    "# use all data"
   ]
  },
  {
   "cell_type": "code",
   "execution_count": 20,
   "metadata": {
    "collapsed": true,
    "scrolled": true
   },
   "outputs": [],
   "source": [
    "y = pd.DataFrame(df2['weather_re'])\n",
    "y ['if_none'] = df2['if_none']"
   ]
  },
  {
   "cell_type": "code",
   "execution_count": 21,
   "metadata": {
    "collapsed": true
   },
   "outputs": [],
   "source": [
    "X = df2.iloc[0:,8:-1]\n",
    "y1 = np.array(y)\n",
    "X = np.array(X.values)\n",
    "X2 = get_pca(X)\n"
   ]
  },
  {
   "cell_type": "code",
   "execution_count": 22,
   "metadata": {
    "collapsed": true
   },
   "outputs": [],
   "source": [
    "edgeVal = np.array(df2.iloc[:,7])\n",
    "edgeVal = (edgeVal)\n",
    "lumVal = np.array(df2.iloc[:,8])\n",
    "lumVal = (lumVal)\n",
    "df_x2 = pd.DataFrame(X2)\n",
    "df_x2['edge_value'] = edgeVal\n",
    "df_x2['lum'] = lumVal\n",
    "X3 = np.array(df_x2)"
   ]
  },
  {
   "cell_type": "code",
   "execution_count": 23,
   "metadata": {
    "collapsed": true,
    "scrolled": false
   },
   "outputs": [],
   "source": [
    "X_train, X_test, y_train, y_test = model_selection.train_test_split(X3, y1)\n",
    "y_train = y_train[:,0]\n",
    "collect2 = []\n",
    "for i in range (0,len(y_test)):\n",
    "    if not(y_test[i,1]):\n",
    "        collect2.append(i)\n",
    "X_test = X_test[collect2]\n",
    "y_test = y_test[collect2,0]"
   ]
  },
  {
   "cell_type": "code",
   "execution_count": 24,
   "metadata": {},
   "outputs": [
    {
     "name": "stdout",
     "output_type": "stream",
     "text": [
      "0.474358974359\n"
     ]
    }
   ],
   "source": [
    "#Naive bayse\n",
    "clf = GaussianNB()\n",
    "clf.fit(X_train, y_train)\n",
    "print(clf.score(X_test,y_test))"
   ]
  },
  {
   "cell_type": "code",
   "execution_count": 25,
   "metadata": {
    "collapsed": true
   },
   "outputs": [],
   "source": [
    "error_collect = []\n",
    "for i in range (0,20):\n",
    "    X_train, X_test, y_train, y_test = model_selection.train_test_split(X3, y1)\n",
    "    y_train = y_train[:,0]\n",
    "    collect2 = []\n",
    "    for i in range (0,len(y_test)):\n",
    "        if not(y_test[i,1]):\n",
    "            collect2.append(i)\n",
    "    X_test = X_test[collect2]\n",
    "    y_test = y_test[collect2,0]\n",
    "    #KNN\n",
    "    arr = []\n",
    "    for i in range (1,100,10):\n",
    "        KNN = KNeighborsClassifier(n_neighbors=i)\n",
    "        KNN.fit(X_train, y_train) \n",
    "        arr.append((KNN.score(X_test,y_test),i))\n",
    "    error_collect.append((arr))\n"
   ]
  },
  {
   "cell_type": "code",
   "execution_count": 26,
   "metadata": {},
   "outputs": [
    {
     "name": "stdout",
     "output_type": "stream",
     "text": [
      "0.655239332807 1\n",
      "0.699747576178 11\n",
      "0.696486099978 21\n",
      "0.695912089938 31\n",
      "0.693595156678 41\n",
      "0.687997401727 51\n",
      "0.687512374862 61\n",
      "0.683884202701 71\n",
      "0.682098709676 81\n",
      "0.683251824276 91\n"
     ]
    }
   ],
   "source": [
    "xy = np.array(error_collect)\n",
    "z = xy[:,:,0]\n",
    "for i in range(0,10):\n",
    "    print(np.mean(z[:,i]),10*i+1)"
   ]
  },
  {
   "cell_type": "code",
   "execution_count": 27,
   "metadata": {
    "collapsed": true,
    "scrolled": true
   },
   "outputs": [],
   "source": [
    "#KNN\n",
    "# record all errors for one iteration\n",
    "arr2 = []\n",
    "KNN = KNeighborsClassifier(n_neighbors=11)\n",
    "KNN.fit(X_train, y_train) \n",
    "for i in range (0,len(y_test)):\n",
    "    pred = KNN.predict([X_test[i]])\n",
    "    if (pred[0] != y_test[i]):\n",
    "        arr2.append([pred[0],y_test[i]])\n",
    "arr2 = np.array(arr2)"
   ]
  },
  {
   "cell_type": "code",
   "execution_count": 28,
   "metadata": {},
   "outputs": [
    {
     "name": "stdout",
     "output_type": "stream",
     "text": [
      "Weathers:  cloudy rain clear snow\n",
      "mistake predict:  86 28 26 0\n",
      "not recognized weather:  52 70 18 0\n",
      "total test samples :  207 151 111 0\n"
     ]
    }
   ],
   "source": [
    "cloudy =0\n",
    "rain =0\n",
    "clear =0\n",
    "snow =0\n",
    "\n",
    "cloudy2 =0\n",
    "rain2 =0\n",
    "clear2 =0\n",
    "snow2 =0\n",
    "\n",
    "cloudy3 =0\n",
    "rain3 =0\n",
    "clear3 =0\n",
    "snow3 =0\n",
    "for i in range(len(arr2)):\n",
    "    if (arr2[i,0] == 'Cloudy'):\n",
    "        cloudy += 1\n",
    "    elif (arr2[i,0] == 'Rain'):\n",
    "        rain += 1    \n",
    "    elif (arr2[i,0] == 'Clear'):\n",
    "        clear += 1   \n",
    "    elif (arr2[i,0] == 'Snow'):\n",
    "        snow += 1   \n",
    "        \n",
    "for i in range(len(arr2)):\n",
    "    if (arr2[i,1] == 'Cloudy'):\n",
    "        cloudy2 += 1\n",
    "    elif (arr2[i,1] == 'Rain'):\n",
    "        rain2 += 1    \n",
    "    elif (arr2[i,1] == 'Clear'):\n",
    "        clear2 += 1   \n",
    "    elif (arr2[i,1] == 'Snow'):\n",
    "        snow2 += 1   \n",
    "        \n",
    "for i in range(len(y_test)):\n",
    "    if (y_test[i] == 'Cloudy'):\n",
    "        cloudy3 += 1\n",
    "    elif (y_test[i] == 'Rain'):\n",
    "        rain3 += 1    \n",
    "    elif (y_test[i] == 'Clear'):\n",
    "        clear3 += 1   \n",
    "    elif (y_test[i] == 'Snow'):\n",
    "        snow3 += 1   \n",
    "        \n",
    "print ('Weathers: ','cloudy', 'rain', 'clear', 'snow')        \n",
    "print ('mistake predict: ',cloudy, rain, clear, snow)\n",
    "print ('not recognized weather: ',cloudy2, rain2, clear2, snow2)\n",
    "print ('total test samples : ',cloudy3, rain3, clear3, snow3)"
   ]
  },
  {
   "cell_type": "code",
   "execution_count": 40,
   "metadata": {},
   "outputs": [
    {
     "name": "stdout",
     "output_type": "stream",
     "text": [
      "(0.44025157232704404, 1, 100000)\n",
      "(0.57232704402515722, 1, 1000000)\n",
      "(0.689727463312369, 1, 10000000)\n",
      "(0.69811320754716977, 1, 100000000)\n",
      "(0.59748427672955973, 1, 1000000000)\n",
      "(0.59748427672955973, 1, 10000000000)\n",
      "(0.44025157232704404, 11, 100000)\n",
      "(0.59329140461215935, 11, 1000000)\n",
      "(0.70440251572327039, 11, 10000000)\n",
      "(0.71698113207547165, 11, 100000000)\n",
      "(0.70020964360587001, 11, 1000000000)\n",
      "(0.58909853249475896, 11, 10000000000)\n",
      "(0.44025157232704404, 21, 100000)\n",
      "(0.59329140461215935, 21, 1000000)\n",
      "(0.69811320754716977, 21, 10000000)\n",
      "(0.71069182389937102, 21, 100000000)\n",
      "(0.72117400419287214, 21, 1000000000)\n",
      "(0.58700209643605872, 21, 10000000000)\n",
      "(0.44025157232704404, 31, 100000)\n",
      "(0.59329140461215935, 31, 1000000)\n",
      "(0.70649895178197064, 31, 10000000)\n",
      "(0.70230607966457026, 31, 100000000)\n",
      "(0.72746331236897277, 31, 1000000000)\n",
      "(0.59748427672955973, 31, 10000000000)\n",
      "(0.44025157232704404, 41, 100000)\n",
      "(0.59329140461215935, 41, 1000000)\n",
      "(0.70230607966457026, 41, 10000000)\n",
      "(0.69182389937106914, 41, 100000000)\n",
      "(0.72955974842767291, 41, 1000000000)\n",
      "(0.59958071278825997, 41, 10000000000)\n",
      "(0.44025157232704404, 51, 100000)\n",
      "(0.59329140461215935, 51, 1000000)\n",
      "(0.70230607966457026, 51, 10000000)\n",
      "(0.68343815513626838, 51, 100000000)\n",
      "(0.73165618448637315, 51, 1000000000)\n",
      "(0.61635220125786161, 51, 10000000000)\n",
      "(0.44025157232704404, 61, 100000)\n",
      "(0.59329140461215935, 61, 1000000)\n",
      "(0.70230607966457026, 61, 10000000)\n",
      "(0.69182389937106914, 61, 100000000)\n",
      "(0.73165618448637315, 61, 1000000000)\n",
      "(0.64150943396226412, 61, 10000000000)\n",
      "(0.44025157232704404, 71, 100000)\n",
      "(0.59329140461215935, 71, 1000000)\n",
      "(0.69601677148846963, 71, 10000000)\n",
      "(0.68763102725366876, 71, 100000000)\n",
      "(0.72955974842767291, 71, 1000000000)\n",
      "(0.66666666666666663, 71, 10000000000)\n",
      "(0.44025157232704404, 81, 100000)\n",
      "(0.59329140461215935, 81, 1000000)\n",
      "(0.69182389937106914, 81, 10000000)\n",
      "(0.68343815513626838, 81, 100000000)\n",
      "(0.72746331236897277, 81, 1000000000)\n",
      "(0.68763102725366876, 81, 10000000000)\n",
      "(0.44025157232704404, 91, 100000)\n",
      "(0.59329140461215935, 91, 1000000)\n",
      "(0.69182389937106914, 91, 10000000)\n",
      "(0.689727463312369, 91, 100000000)\n",
      "(0.72746331236897277, 91, 1000000000)\n",
      "(0.69601677148846963, 91, 10000000000)\n",
      "(0.47568710359408034, 1, 100000)\n",
      "(0.58350951374207183, 1, 1000000)\n",
      "(0.65750528541226216, 1, 10000000)\n",
      "(0.67653276955602537, 1, 100000000)\n",
      "(0.57716701902748413, 1, 1000000000)\n",
      "(0.57505285412262153, 1, 10000000000)\n",
      "(0.47568710359408034, 11, 100000)\n",
      "(0.59619450317124734, 11, 1000000)\n",
      "(0.70401691331923888, 11, 10000000)\n",
      "(0.69344608879492597, 11, 100000000)\n",
      "(0.68287526427061307, 11, 1000000000)\n",
      "(0.57293868921775903, 11, 10000000000)\n",
      "(0.47568710359408034, 21, 100000)\n",
      "(0.59619450317124734, 21, 1000000)\n",
      "(0.70401691331923888, 21, 10000000)\n",
      "(0.69767441860465118, 21, 100000000)\n",
      "(0.68710359408033828, 21, 1000000000)\n",
      "(0.57505285412262153, 21, 10000000000)\n",
      "(0.47568710359408034, 31, 100000)\n",
      "(0.59619450317124734, 31, 1000000)\n",
      "(0.70190274841437628, 31, 10000000)\n",
      "(0.69767441860465118, 31, 100000000)\n",
      "(0.69556025369978858, 31, 1000000000)\n",
      "(0.57505285412262153, 31, 10000000000)\n",
      "(0.47568710359408034, 41, 100000)\n",
      "(0.59619450317124734, 41, 1000000)\n",
      "(0.69556025369978858, 41, 10000000)\n",
      "(0.69133192389006337, 41, 100000000)\n",
      "(0.70613107822410148, 41, 1000000000)\n",
      "(0.57716701902748413, 41, 10000000000)\n",
      "(0.47568710359408034, 51, 100000)\n",
      "(0.59619450317124734, 51, 1000000)\n",
      "(0.68921775898520088, 51, 10000000)\n",
      "(0.68921775898520088, 51, 100000000)\n",
      "(0.69978858350951378, 51, 1000000000)\n",
      "(0.59830866807610994, 51, 10000000000)\n",
      "(0.47568710359408034, 61, 100000)\n",
      "(0.59619450317124734, 61, 1000000)\n",
      "(0.68921775898520088, 61, 10000000)\n",
      "(0.68710359408033828, 61, 100000000)\n",
      "(0.70613107822410148, 61, 1000000000)\n",
      "(0.63424947145877375, 61, 10000000000)\n",
      "(0.47568710359408034, 71, 100000)\n",
      "(0.59619450317124734, 71, 1000000)\n",
      "(0.69133192389006337, 71, 10000000)\n",
      "(0.68710359408033828, 71, 100000000)\n",
      "(0.70613107822410148, 71, 1000000000)\n",
      "(0.65327695560253696, 71, 10000000000)\n",
      "(0.47568710359408034, 81, 100000)\n",
      "(0.59619450317124734, 81, 1000000)\n",
      "(0.69344608879492597, 81, 10000000)\n",
      "(0.68921775898520088, 81, 100000000)\n",
      "(0.70401691331923888, 81, 1000000000)\n",
      "(0.65961945031712477, 81, 10000000000)\n",
      "(0.47568710359408034, 91, 100000)\n",
      "(0.59619450317124734, 91, 1000000)\n",
      "(0.69556025369978858, 91, 10000000)\n",
      "(0.68921775898520088, 91, 100000000)\n",
      "(0.70190274841437628, 91, 1000000000)\n",
      "(0.67441860465116277, 91, 10000000000)\n",
      "(0.45140388768898487, 1, 100000)\n",
      "(0.55939524838012955, 1, 1000000)\n",
      "(0.68682505399568039, 1, 10000000)\n",
      "(0.68898488120950319, 1, 100000000)\n",
      "(0.58531317494600432, 1, 1000000000)\n",
      "(0.5745140388768899, 1, 10000000000)\n",
      "(0.45572354211663069, 11, 100000)\n",
      "(0.57235421166306699, 11, 1000000)\n",
      "(0.68250539956803458, 11, 10000000)\n",
      "(0.70842332613390924, 11, 100000000)\n",
      "(0.68682505399568039, 11, 1000000000)\n",
      "(0.58315334773218142, 11, 10000000000)\n",
      "(0.45572354211663069, 21, 100000)\n",
      "(0.57235421166306699, 21, 1000000)\n",
      "(0.68682505399568039, 21, 10000000)\n",
      "(0.693304535637149, 21, 100000000)\n",
      "(0.69762419006479481, 21, 1000000000)\n",
      "(0.58315334773218142, 21, 10000000000)\n",
      "(0.45572354211663069, 31, 100000)\n",
      "(0.57235421166306699, 31, 1000000)\n",
      "(0.67170626349892004, 31, 10000000)\n",
      "(0.68898488120950319, 31, 100000000)\n",
      "(0.72354211663066959, 31, 1000000000)\n",
      "(0.58099352051835851, 31, 10000000000)\n",
      "(0.45572354211663069, 41, 100000)\n",
      "(0.57235421166306699, 41, 1000000)\n",
      "(0.67170626349892004, 41, 10000000)\n",
      "(0.68250539956803458, 41, 100000000)\n",
      "(0.72138228941684668, 41, 1000000000)\n",
      "(0.5788336933045356, 41, 10000000000)\n",
      "(0.45572354211663069, 51, 100000)\n",
      "(0.57235421166306699, 51, 1000000)\n",
      "(0.67602591792656586, 51, 10000000)\n",
      "(0.68898488120950319, 51, 100000000)\n",
      "(0.72354211663066959, 51, 1000000000)\n",
      "(0.5788336933045356, 51, 10000000000)\n",
      "(0.45572354211663069, 61, 100000)\n",
      "(0.57235421166306699, 61, 1000000)\n",
      "(0.68034557235421167, 61, 10000000)\n",
      "(0.68682505399568039, 61, 100000000)\n",
      "(0.71922246220302377, 61, 1000000000)\n",
      "(0.58099352051835851, 61, 10000000000)\n",
      "(0.45572354211663069, 71, 100000)\n",
      "(0.57235421166306699, 71, 1000000)\n",
      "(0.67818574514038876, 71, 10000000)\n",
      "(0.693304535637149, 71, 100000000)\n",
      "(0.71922246220302377, 71, 1000000000)\n",
      "(0.58747300215982723, 71, 10000000000)\n",
      "(0.45572354211663069, 81, 100000)\n",
      "(0.57235421166306699, 81, 1000000)\n",
      "(0.67818574514038876, 81, 10000000)\n",
      "(0.68898488120950319, 81, 100000000)\n",
      "(0.71922246220302377, 81, 1000000000)\n",
      "(0.59827213822894165, 81, 10000000000)\n",
      "(0.45572354211663069, 91, 100000)\n",
      "(0.57235421166306699, 91, 1000000)\n",
      "(0.67602591792656586, 91, 10000000)\n",
      "(0.68898488120950319, 91, 100000000)\n",
      "(0.71706263498920086, 91, 1000000000)\n",
      "(0.61339092872570189, 91, 10000000000)\n",
      "(0.4152542372881356, 1, 100000)\n",
      "(0.56779661016949157, 1, 1000000)\n",
      "(0.71822033898305082, 1, 10000000)\n",
      "(0.71398305084745761, 1, 100000000)\n",
      "(0.58686440677966101, 1, 1000000000)\n",
      "(0.5847457627118644, 1, 10000000000)\n",
      "(0.42161016949152541, 11, 100000)\n",
      "(0.57415254237288138, 11, 1000000)\n",
      "(0.73093220338983056, 11, 10000000)\n",
      "(0.73093220338983056, 11, 100000000)\n",
      "(0.72033898305084743, 11, 1000000000)\n",
      "(0.5826271186440678, 11, 10000000000)\n",
      "(0.42161016949152541, 21, 100000)\n",
      "(0.57415254237288138, 21, 1000000)\n",
      "(0.71822033898305082, 21, 10000000)\n",
      "(0.72457627118644063, 21, 100000000)\n",
      "(0.71822033898305082, 21, 1000000000)\n",
      "(0.59110169491525422, 21, 10000000000)\n",
      "(0.42161016949152541, 31, 100000)\n",
      "(0.57415254237288138, 31, 1000000)\n",
      "(0.7076271186440678, 31, 10000000)\n",
      "(0.72881355932203384, 31, 100000000)\n",
      "(0.72457627118644063, 31, 1000000000)\n",
      "(0.59533898305084743, 31, 10000000000)\n",
      "(0.42161016949152541, 41, 100000)\n",
      "(0.57415254237288138, 41, 1000000)\n",
      "(0.69915254237288138, 41, 10000000)\n",
      "(0.72669491525423724, 41, 100000000)\n",
      "(0.72457627118644063, 41, 1000000000)\n",
      "(0.60805084745762716, 41, 10000000000)\n",
      "(0.42161016949152541, 51, 100000)\n",
      "(0.57415254237288138, 51, 1000000)\n",
      "(0.70127118644067798, 51, 10000000)\n",
      "(0.72669491525423724, 51, 100000000)\n",
      "(0.73305084745762716, 51, 1000000000)\n",
      "(0.64406779661016944, 51, 10000000000)\n",
      "(0.42161016949152541, 61, 100000)\n",
      "(0.57415254237288138, 61, 1000000)\n",
      "(0.69915254237288138, 61, 10000000)\n",
      "(0.71398305084745761, 61, 100000000)\n",
      "(0.72881355932203384, 61, 1000000000)\n",
      "(0.68644067796610164, 61, 10000000000)\n",
      "(0.42161016949152541, 71, 100000)\n",
      "(0.57415254237288138, 71, 1000000)\n",
      "(0.69491525423728817, 71, 10000000)\n",
      "(0.7097457627118644, 71, 100000000)\n"
     ]
    },
    {
     "name": "stdout",
     "output_type": "stream",
     "text": [
      "(0.73516949152542377, 71, 1000000000)\n",
      "(0.69703389830508478, 71, 10000000000)\n",
      "(0.42161016949152541, 81, 100000)\n",
      "(0.57415254237288138, 81, 1000000)\n",
      "(0.69279661016949157, 81, 10000000)\n",
      "(0.70550847457627119, 81, 100000000)\n",
      "(0.73516949152542377, 81, 1000000000)\n",
      "(0.71186440677966101, 81, 10000000000)\n",
      "(0.42161016949152541, 91, 100000)\n",
      "(0.57415254237288138, 91, 1000000)\n",
      "(0.69491525423728817, 91, 10000000)\n",
      "(0.70127118644067798, 91, 100000000)\n",
      "(0.73940677966101698, 91, 1000000000)\n",
      "(0.72457627118644063, 91, 10000000000)\n",
      "(0.45435684647302904, 1, 100000)\n",
      "(0.5705394190871369, 1, 1000000)\n",
      "(0.67012448132780078, 1, 10000000)\n",
      "(0.68672199170124482, 1, 100000000)\n",
      "(0.59336099585062241, 1, 1000000000)\n",
      "(0.58091286307053946, 1, 10000000000)\n",
      "(0.45850622406639002, 11, 100000)\n",
      "(0.58713692946058094, 11, 1000000)\n",
      "(0.67634854771784236, 11, 10000000)\n",
      "(0.69294605809128629, 11, 100000000)\n",
      "(0.68879668049792531, 11, 1000000000)\n",
      "(0.58713692946058094, 11, 10000000000)\n",
      "(0.45850622406639002, 21, 100000)\n",
      "(0.58713692946058094, 21, 1000000)\n",
      "(0.66182572614107882, 21, 10000000)\n",
      "(0.68879668049792531, 21, 100000000)\n",
      "(0.70539419087136934, 21, 1000000000)\n",
      "(0.58713692946058094, 21, 10000000000)\n",
      "(0.45850622406639002, 31, 100000)\n",
      "(0.58713692946058094, 31, 1000000)\n",
      "(0.6659751037344398, 31, 10000000)\n",
      "(0.69294605809128629, 31, 100000000)\n",
      "(0.7136929460580913, 31, 1000000000)\n",
      "(0.58713692946058094, 31, 10000000000)\n",
      "(0.45850622406639002, 41, 100000)\n",
      "(0.58713692946058094, 41, 1000000)\n",
      "(0.6659751037344398, 41, 10000000)\n",
      "(0.69294605809128629, 41, 100000000)\n",
      "(0.71991701244813278, 41, 1000000000)\n",
      "(0.59336099585062241, 41, 10000000000)\n",
      "(0.45850622406639002, 51, 100000)\n",
      "(0.58713692946058094, 51, 1000000)\n",
      "(0.66804979253112029, 51, 10000000)\n",
      "(0.68672199170124482, 51, 100000000)\n",
      "(0.71784232365145229, 51, 1000000000)\n",
      "(0.59336099585062241, 51, 10000000000)\n",
      "(0.45850622406639002, 61, 100000)\n",
      "(0.58713692946058094, 61, 1000000)\n",
      "(0.67219917012448138, 61, 10000000)\n",
      "(0.68464730290456433, 61, 100000000)\n",
      "(0.7136929460580913, 61, 1000000000)\n",
      "(0.61203319502074693, 61, 10000000000)\n",
      "(0.45850622406639002, 71, 100000)\n",
      "(0.58713692946058094, 71, 1000000)\n",
      "(0.66804979253112029, 71, 10000000)\n",
      "(0.68257261410788383, 71, 100000000)\n",
      "(0.7136929460580913, 71, 1000000000)\n",
      "(0.63900414937759331, 71, 10000000000)\n",
      "(0.45850622406639002, 81, 100000)\n",
      "(0.58713692946058094, 81, 1000000)\n",
      "(0.66804979253112029, 81, 10000000)\n",
      "(0.68464730290456433, 81, 100000000)\n",
      "(0.71161825726141081, 81, 1000000000)\n",
      "(0.65560165975103735, 81, 10000000000)\n",
      "(0.45850622406639002, 91, 100000)\n",
      "(0.58713692946058094, 91, 1000000)\n",
      "(0.66804979253112029, 91, 10000000)\n",
      "(0.68049792531120334, 91, 100000000)\n",
      "(0.71161825726141081, 91, 1000000000)\n",
      "(0.67427385892116187, 91, 10000000000)\n",
      "(0.44654088050314467, 1, 100000)\n",
      "(0.57023060796645697, 1, 1000000)\n",
      "(0.66666666666666663, 1, 10000000)\n",
      "(0.66666666666666663, 1, 100000000)\n",
      "(0.56394129979035634, 1, 1000000000)\n",
      "(0.55765199161425572, 1, 10000000000)\n",
      "(0.44863731656184486, 11, 100000)\n",
      "(0.58071278825995809, 11, 1000000)\n",
      "(0.689727463312369, 11, 10000000)\n",
      "(0.71069182389937102, 11, 100000000)\n",
      "(0.66666666666666663, 11, 1000000000)\n",
      "(0.55555555555555558, 11, 10000000000)\n",
      "(0.44863731656184486, 21, 100000)\n",
      "(0.58071278825995809, 21, 1000000)\n",
      "(0.68763102725366876, 21, 10000000)\n",
      "(0.7190775681341719, 21, 100000000)\n",
      "(0.70020964360587001, 21, 1000000000)\n",
      "(0.56184486373165621, 21, 10000000000)\n",
      "(0.44863731656184486, 31, 100000)\n",
      "(0.58071278825995809, 31, 1000000)\n",
      "(0.69182389937106914, 31, 10000000)\n",
      "(0.70859538784067089, 31, 100000000)\n",
      "(0.70649895178197064, 31, 1000000000)\n",
      "(0.56394129979035634, 31, 10000000000)\n",
      "(0.44863731656184486, 41, 100000)\n",
      "(0.58071278825995809, 41, 1000000)\n",
      "(0.689727463312369, 41, 10000000)\n",
      "(0.70859538784067089, 41, 100000000)\n",
      "(0.70440251572327039, 41, 1000000000)\n",
      "(0.56603773584905659, 41, 10000000000)\n",
      "(0.44863731656184486, 51, 100000)\n",
      "(0.58071278825995809, 51, 1000000)\n",
      "(0.68553459119496851, 51, 10000000)\n",
      "(0.71069182389937102, 51, 100000000)\n",
      "(0.70649895178197064, 51, 1000000000)\n",
      "(0.56603773584905659, 51, 10000000000)\n",
      "(0.44863731656184486, 61, 100000)\n",
      "(0.58071278825995809, 61, 1000000)\n",
      "(0.68134171907756813, 61, 10000000)\n",
      "(0.71488469601677151, 61, 100000000)\n",
      "(0.71278825995807127, 61, 1000000000)\n",
      "(0.56394129979035634, 61, 10000000000)\n",
      "(0.44863731656184486, 71, 100000)\n",
      "(0.58071278825995809, 71, 1000000)\n",
      "(0.68134171907756813, 71, 10000000)\n",
      "(0.70440251572327039, 71, 100000000)\n",
      "(0.72955974842767291, 71, 1000000000)\n",
      "(0.56394129979035634, 71, 10000000000)\n",
      "(0.44863731656184486, 81, 100000)\n",
      "(0.58071278825995809, 81, 1000000)\n",
      "(0.68553459119496851, 81, 10000000)\n",
      "(0.70020964360587001, 81, 100000000)\n",
      "(0.72955974842767291, 81, 1000000000)\n",
      "(0.57023060796645697, 81, 10000000000)\n",
      "(0.44863731656184486, 91, 100000)\n",
      "(0.58071278825995809, 91, 1000000)\n",
      "(0.68343815513626838, 91, 10000000)\n",
      "(0.69392033542976939, 91, 100000000)\n",
      "(0.73165618448637315, 91, 1000000000)\n",
      "(0.59329140461215935, 91, 10000000000)\n",
      "(0.43220338983050849, 1, 100000)\n",
      "(0.57627118644067798, 1, 1000000)\n",
      "(0.7097457627118644, 1, 10000000)\n",
      "(0.71610169491525422, 1, 100000000)\n",
      "(0.59745762711864403, 1, 1000000000)\n",
      "(0.59745762711864403, 1, 10000000000)\n",
      "(0.4385593220338983, 11, 100000)\n",
      "(0.58686440677966101, 11, 1000000)\n",
      "(0.71186440677966101, 11, 10000000)\n",
      "(0.74364406779661019, 11, 100000000)\n",
      "(0.73940677966101698, 11, 1000000000)\n",
      "(0.59110169491525422, 11, 10000000000)\n",
      "(0.4385593220338983, 21, 100000)\n",
      "(0.58686440677966101, 21, 1000000)\n",
      "(0.71186440677966101, 21, 10000000)\n",
      "(0.74576271186440679, 21, 100000000)\n",
      "(0.73940677966101698, 21, 1000000000)\n",
      "(0.59110169491525422, 21, 10000000000)\n",
      "(0.4385593220338983, 31, 100000)\n",
      "(0.58686440677966101, 31, 1000000)\n",
      "(0.7097457627118644, 31, 10000000)\n",
      "(0.73305084745762716, 31, 100000000)\n",
      "(0.73940677966101698, 31, 1000000000)\n",
      "(0.59110169491525422, 31, 10000000000)\n",
      "(0.4385593220338983, 41, 100000)\n",
      "(0.58686440677966101, 41, 1000000)\n",
      "(0.70338983050847459, 41, 10000000)\n",
      "(0.73516949152542377, 41, 100000000)\n",
      "(0.75, 41, 1000000000)\n",
      "(0.59745762711864403, 41, 10000000000)\n",
      "(0.4385593220338983, 51, 100000)\n",
      "(0.58686440677966101, 51, 1000000)\n",
      "(0.69491525423728817, 51, 10000000)\n",
      "(0.73728813559322037, 51, 100000000)\n",
      "(0.75, 51, 1000000000)\n",
      "(0.64194915254237284, 51, 10000000000)\n",
      "(0.4385593220338983, 61, 100000)\n",
      "(0.58686440677966101, 61, 1000000)\n",
      "(0.69279661016949157, 61, 10000000)\n",
      "(0.72881355932203384, 61, 100000000)\n",
      "(0.74152542372881358, 61, 1000000000)\n",
      "(0.6673728813559322, 61, 10000000000)\n",
      "(0.4385593220338983, 71, 100000)\n",
      "(0.58686440677966101, 71, 1000000)\n",
      "(0.69703389830508478, 71, 10000000)\n",
      "(0.72457627118644063, 71, 100000000)\n",
      "(0.74364406779661019, 71, 1000000000)\n",
      "(0.70127118644067798, 71, 10000000000)\n",
      "(0.4385593220338983, 81, 100000)\n",
      "(0.58686440677966101, 81, 1000000)\n",
      "(0.70338983050847459, 81, 10000000)\n",
      "(0.72245762711864403, 81, 100000000)\n",
      "(0.73728813559322037, 81, 1000000000)\n",
      "(0.71398305084745761, 81, 10000000000)\n",
      "(0.4385593220338983, 91, 100000)\n",
      "(0.58686440677966101, 91, 1000000)\n",
      "(0.70338983050847459, 91, 10000000)\n",
      "(0.72881355932203384, 91, 100000000)\n",
      "(0.73940677966101698, 91, 1000000000)\n",
      "(0.72033898305084743, 91, 10000000000)\n",
      "(0.40412371134020619, 1, 100000)\n",
      "(0.53195876288659794, 1, 1000000)\n",
      "(0.66185567010309276, 1, 10000000)\n",
      "(0.6865979381443299, 1, 100000000)\n",
      "(0.56288659793814433, 1, 1000000000)\n",
      "(0.55670103092783507, 1, 10000000000)\n",
      "(0.40618556701030928, 11, 100000)\n",
      "(0.54845360824742273, 11, 1000000)\n",
      "(0.67422680412371139, 11, 10000000)\n",
      "(0.69896907216494841, 11, 100000000)\n",
      "(0.68453608247422681, 11, 1000000000)\n",
      "(0.55670103092783507, 11, 10000000000)\n",
      "(0.40618556701030928, 21, 100000)\n",
      "(0.54845360824742273, 21, 1000000)\n",
      "(0.66391752577319585, 21, 10000000)\n",
      "(0.69484536082474224, 21, 100000000)\n",
      "(0.6865979381443299, 21, 1000000000)\n",
      "(0.55876288659793816, 21, 10000000000)\n",
      "(0.40618556701030928, 31, 100000)\n",
      "(0.54845360824742273, 31, 1000000)\n",
      "(0.66597938144329893, 31, 10000000)\n",
      "(0.67835051546391756, 31, 100000000)\n",
      "(0.69484536082474224, 31, 1000000000)\n",
      "(0.55670103092783507, 31, 10000000000)\n"
     ]
    },
    {
     "ename": "KeyboardInterrupt",
     "evalue": "",
     "output_type": "error",
     "traceback": [
      "\u001b[1;31m---------------------------------------------------------------------------\u001b[0m",
      "\u001b[1;31mKeyboardInterrupt\u001b[0m                         Traceback (most recent call last)",
      "\u001b[1;32m<ipython-input-40-f1a620f1e839>\u001b[0m in \u001b[0;36m<module>\u001b[1;34m()\u001b[0m\n\u001b[0;32m     15\u001b[0m             \u001b[1;31m#useless when j < 100000\u001b[0m\u001b[1;33m\u001b[0m\u001b[1;33m\u001b[0m\u001b[0m\n\u001b[0;32m     16\u001b[0m             \u001b[0msvc_model\u001b[0m \u001b[1;33m=\u001b[0m \u001b[0mSVC\u001b[0m\u001b[1;33m(\u001b[0m\u001b[0mC\u001b[0m\u001b[1;33m=\u001b[0m\u001b[0mi\u001b[0m\u001b[1;33m,\u001b[0m\u001b[0mgamma\u001b[0m \u001b[1;33m=\u001b[0m \u001b[1;36m1\u001b[0m\u001b[1;33m/\u001b[0m\u001b[0mj\u001b[0m\u001b[1;33m)\u001b[0m\u001b[1;33m\u001b[0m\u001b[0m\n\u001b[1;32m---> 17\u001b[1;33m             \u001b[0msvc_model\u001b[0m\u001b[1;33m.\u001b[0m\u001b[0mfit\u001b[0m\u001b[1;33m(\u001b[0m\u001b[0mX_train\u001b[0m\u001b[1;33m,\u001b[0m \u001b[0my_train\u001b[0m\u001b[1;33m)\u001b[0m\u001b[1;33m\u001b[0m\u001b[0m\n\u001b[0m\u001b[0;32m     18\u001b[0m             \u001b[0mprint\u001b[0m\u001b[1;33m(\u001b[0m\u001b[1;33m(\u001b[0m\u001b[0msvc_model\u001b[0m\u001b[1;33m.\u001b[0m\u001b[0mscore\u001b[0m\u001b[1;33m(\u001b[0m\u001b[0mX_test\u001b[0m\u001b[1;33m,\u001b[0m\u001b[0my_test\u001b[0m\u001b[1;33m)\u001b[0m\u001b[1;33m,\u001b[0m\u001b[0mi\u001b[0m\u001b[1;33m,\u001b[0m\u001b[0mj\u001b[0m\u001b[1;33m)\u001b[0m\u001b[1;33m)\u001b[0m\u001b[1;33m\u001b[0m\u001b[0m\n\u001b[0;32m     19\u001b[0m             \u001b[0mj\u001b[0m \u001b[1;33m=\u001b[0m \u001b[1;36m10\u001b[0m\u001b[1;33m*\u001b[0m\u001b[0mj\u001b[0m\u001b[1;33m\u001b[0m\u001b[0m\n",
      "\u001b[1;32mf:\\Users\\HY-LIU\\Anaconda3\\lib\\site-packages\\sklearn\\svm\\base.py\u001b[0m in \u001b[0;36mfit\u001b[1;34m(self, X, y, sample_weight)\u001b[0m\n\u001b[0;32m    185\u001b[0m \u001b[1;33m\u001b[0m\u001b[0m\n\u001b[0;32m    186\u001b[0m         \u001b[0mseed\u001b[0m \u001b[1;33m=\u001b[0m \u001b[0mrnd\u001b[0m\u001b[1;33m.\u001b[0m\u001b[0mrandint\u001b[0m\u001b[1;33m(\u001b[0m\u001b[0mnp\u001b[0m\u001b[1;33m.\u001b[0m\u001b[0miinfo\u001b[0m\u001b[1;33m(\u001b[0m\u001b[1;34m'i'\u001b[0m\u001b[1;33m)\u001b[0m\u001b[1;33m.\u001b[0m\u001b[0mmax\u001b[0m\u001b[1;33m)\u001b[0m\u001b[1;33m\u001b[0m\u001b[0m\n\u001b[1;32m--> 187\u001b[1;33m         \u001b[0mfit\u001b[0m\u001b[1;33m(\u001b[0m\u001b[0mX\u001b[0m\u001b[1;33m,\u001b[0m \u001b[0my\u001b[0m\u001b[1;33m,\u001b[0m \u001b[0msample_weight\u001b[0m\u001b[1;33m,\u001b[0m \u001b[0msolver_type\u001b[0m\u001b[1;33m,\u001b[0m \u001b[0mkernel\u001b[0m\u001b[1;33m,\u001b[0m \u001b[0mrandom_seed\u001b[0m\u001b[1;33m=\u001b[0m\u001b[0mseed\u001b[0m\u001b[1;33m)\u001b[0m\u001b[1;33m\u001b[0m\u001b[0m\n\u001b[0m\u001b[0;32m    188\u001b[0m         \u001b[1;31m# see comment on the other call to np.iinfo in this file\u001b[0m\u001b[1;33m\u001b[0m\u001b[1;33m\u001b[0m\u001b[0m\n\u001b[0;32m    189\u001b[0m \u001b[1;33m\u001b[0m\u001b[0m\n",
      "\u001b[1;32mf:\\Users\\HY-LIU\\Anaconda3\\lib\\site-packages\\sklearn\\svm\\base.py\u001b[0m in \u001b[0;36m_dense_fit\u001b[1;34m(self, X, y, sample_weight, solver_type, kernel, random_seed)\u001b[0m\n\u001b[0;32m    252\u001b[0m                 \u001b[0mcache_size\u001b[0m\u001b[1;33m=\u001b[0m\u001b[0mself\u001b[0m\u001b[1;33m.\u001b[0m\u001b[0mcache_size\u001b[0m\u001b[1;33m,\u001b[0m \u001b[0mcoef0\u001b[0m\u001b[1;33m=\u001b[0m\u001b[0mself\u001b[0m\u001b[1;33m.\u001b[0m\u001b[0mcoef0\u001b[0m\u001b[1;33m,\u001b[0m\u001b[1;33m\u001b[0m\u001b[0m\n\u001b[0;32m    253\u001b[0m                 \u001b[0mgamma\u001b[0m\u001b[1;33m=\u001b[0m\u001b[0mself\u001b[0m\u001b[1;33m.\u001b[0m\u001b[0m_gamma\u001b[0m\u001b[1;33m,\u001b[0m \u001b[0mepsilon\u001b[0m\u001b[1;33m=\u001b[0m\u001b[0mself\u001b[0m\u001b[1;33m.\u001b[0m\u001b[0mepsilon\u001b[0m\u001b[1;33m,\u001b[0m\u001b[1;33m\u001b[0m\u001b[0m\n\u001b[1;32m--> 254\u001b[1;33m                 max_iter=self.max_iter, random_seed=random_seed)\n\u001b[0m\u001b[0;32m    255\u001b[0m \u001b[1;33m\u001b[0m\u001b[0m\n\u001b[0;32m    256\u001b[0m         \u001b[0mself\u001b[0m\u001b[1;33m.\u001b[0m\u001b[0m_warn_from_fit_status\u001b[0m\u001b[1;33m(\u001b[0m\u001b[1;33m)\u001b[0m\u001b[1;33m\u001b[0m\u001b[0m\n",
      "\u001b[1;31mKeyboardInterrupt\u001b[0m: "
     ]
    }
   ],
   "source": [
    "#SVC\n",
    "error_collect = []\n",
    "for i in range (0,20):\n",
    "    X_train, X_test, y_train, y_test = model_selection.train_test_split(X3, y1)\n",
    "    y_train = y_train[:,0]\n",
    "    collect2 = []\n",
    "    for i in range (0,len(y_test)):\n",
    "        if not(y_test[i,1]):\n",
    "            collect2.append(i)\n",
    "    X_test = X_test[collect2]\n",
    "    y_test = y_test[collect2,0]\n",
    "    for i in range (1,100,10):\n",
    "        j = 100000\n",
    "        while(j <= 10000000000):\n",
    "            #useless when j < 100000\n",
    "            svc_model = SVC(C=i,gamma = 1/j)\n",
    "            svc_model.fit(X_train, y_train) \n",
    "            print((svc_model.score(X_test,y_test),i,j))\n",
    "            error_collect.append((svc_model.score(X_test,y_test),i,j))\n",
    "            j = 10*j"
   ]
  },
  {
   "cell_type": "code",
   "execution_count": 81,
   "metadata": {},
   "outputs": [
    {
     "name": "stdout",
     "output_type": "stream",
     "text": [
      "(0.74576271186440679, 70, 1e-09)\n",
      "(0.74255319148936172, 70, 1e-09)\n",
      "(0.75324675324675328, 70, 1e-09)\n",
      "(0.72301425661914465, 70, 1e-09)\n",
      "(0.75204918032786883, 70, 1e-09)\n",
      "(0.71460176991150437, 70, 1e-09)\n",
      "(0.69639065817409762, 70, 1e-09)\n",
      "(0.71186440677966101, 70, 1e-09)\n",
      "(0.73402061855670098, 70, 1e-09)\n",
      "(0.71767241379310343, 70, 1e-09)\n",
      "(0.74428274428274432, 70, 1e-09)\n",
      "(0.7364016736401674, 70, 1e-09)\n",
      "(0.70105263157894737, 70, 1e-09)\n",
      "(0.77405857740585771, 70, 1e-09)\n",
      "(0.70940170940170943, 70, 1e-09)\n",
      "(0.69344608879492597, 70, 1e-09)\n",
      "(0.7133757961783439, 70, 1e-09)\n",
      "(0.74036511156186613, 70, 1e-09)\n",
      "(0.73498964803312627, 70, 1e-09)\n",
      "(0.70171673819742486, 70, 1e-09)\n"
     ]
    }
   ],
   "source": [
    "#SVC\n",
    "result = []\n",
    "for i in range (0,20):\n",
    "    X_train, X_test, y_train, y_test = model_selection.train_test_split(X3, y1)\n",
    "    y_train = y_train[:,0]\n",
    "    collect2 = []\n",
    "    for i in range (0,len(y_test)):\n",
    "        if not(y_test[i,1]):\n",
    "            collect2.append(i)\n",
    "    X_test = X_test[collect2]\n",
    "    y_test = y_test[collect2,0]\n",
    "    #useless when j < 100000\n",
    "    svc_model = SVC(C=70,gamma = 1/1000000000)\n",
    "    svc_model.fit(X_train, y_train) \n",
    "    print((svc_model.score(X_test,y_test),70,1/1000000000))\n",
    "    result.append(svc_model.score(X_test,y_test))\n",
    "    j = 10*j"
   ]
  },
  {
   "cell_type": "code",
   "execution_count": 83,
   "metadata": {},
   "outputs": [
    {
     "data": {
      "text/plain": [
       "0.72701333399188584"
      ]
     },
     "execution_count": 83,
     "metadata": {},
     "output_type": "execute_result"
    }
   ],
   "source": [
    "np.mean(result)"
   ]
  }
 ],
 "metadata": {
  "kernelspec": {
   "display_name": "Python 3",
   "language": "python",
   "name": "python3"
  },
  "language_info": {
   "codemirror_mode": {
    "name": "ipython",
    "version": 3
   },
   "file_extension": ".py",
   "mimetype": "text/x-python",
   "name": "python",
   "nbconvert_exporter": "python",
   "pygments_lexer": "ipython3",
   "version": "3.6.2"
  }
 },
 "nbformat": 4,
 "nbformat_minor": 2
}
