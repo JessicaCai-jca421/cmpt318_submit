{
 "cells": [
  {
   "cell_type": "code",
   "execution_count": 37,
   "metadata": {
    "collapsed": true
   },
   "outputs": [],
   "source": [
    "import numpy as np\n",
    "import pandas as pd\n",
    "import matplotlib.pyplot as plt\n",
    "import sys"
   ]
  },
  {
   "cell_type": "code",
   "execution_count": 38,
   "metadata": {
    "collapsed": true
   },
   "outputs": [],
   "source": [
    "from sklearn.pipeline import make_pipeline\n",
    "from sklearn.preprocessing import MinMaxScaler"
   ]
  },
  {
   "cell_type": "code",
   "execution_count": 39,
   "metadata": {
    "collapsed": true
   },
   "outputs": [],
   "source": [
    "from sklearn.preprocessing import StandardScaler\n",
    "from sklearn.decomposition import PCA\n",
    "from sklearn.cluster import KMeans\n",
    "from sklearn import model_selection"
   ]
  },
  {
   "cell_type": "code",
   "execution_count": 40,
   "metadata": {
    "collapsed": true
   },
   "outputs": [],
   "source": [
    "from sklearn.svm import SVC\n",
    "from sklearn.neighbors import KNeighborsClassifier\n",
    "from sklearn.naive_bayes import GaussianNB"
   ]
  },
  {
   "cell_type": "code",
   "execution_count": 41,
   "metadata": {
    "collapsed": true
   },
   "outputs": [],
   "source": [
    "from sklearn.neural_network import MLPClassifier"
   ]
  },
  {
   "cell_type": "code",
   "execution_count": 98,
   "metadata": {
    "collapsed": true
   },
   "outputs": [],
   "source": [
    "data = pd.read_csv('sky_no_dark_.csv')"
   ]
  },
  {
   "cell_type": "code",
   "execution_count": 99,
   "metadata": {
    "collapsed": true
   },
   "outputs": [],
   "source": [
    "def get_clusters(X):\n",
    "    \"\"\"\n",
    "    Find clusters of the weather data.\n",
    "    \"\"\"\n",
    "    model = make_pipeline(\n",
    "        KMeans(n_clusters=2)\n",
    "    )\n",
    "    model.fit(X)\n",
    "    return model.predict(X)\n"
   ]
  },
  {
   "cell_type": "code",
   "execution_count": 103,
   "metadata": {
    "collapsed": true
   },
   "outputs": [],
   "source": [
    "def get_pca(X):\n",
    "    \"\"\"\n",
    "    Transform data to 2D points for plotting. Should return an array with shape (n, 2).\n",
    "    \"\"\"\n",
    "    flatten_model = make_pipeline(\n",
    "        MinMaxScaler(),\n",
    "        PCA(n_components=250)\n",
    "    )\n",
    "    X2 = flatten_model.fit_transform(X)\n",
    "    assert X2.shape == (X.shape[0], 250)\n",
    "    return X2"
   ]
  },
  {
   "cell_type": "code",
   "execution_count": 117,
   "metadata": {
    "scrolled": true
   },
   "outputs": [
    {
     "name": "stdout",
     "output_type": "stream",
     "text": [
      "<pandas.core.groupby.DataFrameGroupBy object at 0x0000021DA7B90828>\n"
     ]
    }
   ],
   "source": [
    "data.groupby(data.iloc[-1])\n",
    "data.agg(\n",
    "    data\n",
    ")"
   ]
  },
  {
   "cell_type": "code",
   "execution_count": 110,
   "metadata": {},
   "outputs": [
    {
     "name": "stderr",
     "output_type": "stream",
     "text": [
      "C:\\ProgramData\\Anaconda3\\lib\\site-packages\\sklearn\\utils\\validation.py:444: DataConversionWarning: Data with input dtype int64 was converted to float64 by MinMaxScaler.\n",
      "  warnings.warn(msg, DataConversionWarning)\n"
     ]
    }
   ],
   "source": [
    "X = data.iloc[0:,1:-1]\n",
    "y = data.iloc[0:,-1]\n",
    "y = np.array(y)\n",
    "X = np.array(X.values)\n",
    "X2 = get_pca(X)\n",
    "X2 = X\n"
   ]
  },
  {
   "cell_type": "code",
   "execution_count": 111,
   "metadata": {
    "collapsed": true
   },
   "outputs": [],
   "source": [
    "X_train, X_test, y_train, y_test = model_selection.train_test_split(X2, y)"
   ]
  },
  {
   "cell_type": "code",
   "execution_count": 112,
   "metadata": {},
   "outputs": [
    {
     "name": "stdout",
     "output_type": "stream",
     "text": [
      "0.568507157464\n"
     ]
    }
   ],
   "source": [
    "arr = []\n",
    "for i in range (1,100,5):\n",
    "    KNN = KNeighborsClassifier(n_neighbors=i)\n",
    "    KNN.fit(X_train, y_train) \n",
    "    arr.append(KNN.score(X_test,y_test))\n",
    "print(max(arr))"
   ]
  },
  {
   "cell_type": "code",
   "execution_count": 113,
   "metadata": {},
   "outputs": [
    {
     "name": "stdout",
     "output_type": "stream",
     "text": [
      "0.447852760736\n"
     ]
    }
   ],
   "source": [
    "arr2 = []\n",
    "clf = GaussianNB()\n",
    "clf.fit(X_train, y_train)\n",
    "print(clf.score(X_test,y_test))"
   ]
  },
  {
   "cell_type": "code",
   "execution_count": 109,
   "metadata": {},
   "outputs": [
    {
     "name": "stdout",
     "output_type": "stream",
     "text": [
      "[0.55419222903885479, 0.59304703476482623, 0.58895705521472397, 0.59304703476482623, 0.58895705521472397, 0.58895705521472397, 0.59304703476482623, 0.60122699386503065, 0.59304703476482623, 0.58486707566462171, 0.58895705521472397, 0.58486707566462171, 0.58895705521472397, 0.58486707566462171, 0.58077709611451944, 0.57873210633946826, 0.57668711656441718, 0.5746421267893661, 0.57259713701431492, 0.57259713701431492]\n"
     ]
    }
   ],
   "source": [
    "arr = []\n",
    "for i in range (1,200,10):\n",
    "    svc_rgb = SVC(C=i)\n",
    "    svc_rgb.fit(X_train, y_train) \n",
    "    arr.append(svc_rgb.score(X_test,y_test))\n",
    "print (arr)"
   ]
  },
  {
   "cell_type": "code",
   "execution_count": 59,
   "metadata": {},
   "outputs": [
    {
     "name": "stdout",
     "output_type": "stream",
     "text": [
      "[['Cloudy', 'Rain'], ['Rain', 'Cloudy'], ['Rain', 'Cloudy'], ['Cloudy', 'Rain'], ['Mostly Cloudy', 'Clear'], ['Rain', 'Cloudy'], ['Mostly Cloudy', 'Cloudy'], ['Clear', 'Mostly Cloudy'], ['Mostly Cloudy', 'Clear'], ['Cloudy', 'Rain'], ['Cloudy', 'Rain'], ['Cloudy', 'Mostly Cloudy'], ['Rain', 'Cloudy'], ['Clear', 'Rain'], ['Mostly Cloudy', 'Clear'], ['Clear', 'Mostly Cloudy'], ['Mostly Cloudy', 'Clear'], ['Cloudy', 'Rain'], ['Mostly Cloudy', 'Cloudy'], ['Mostly Cloudy', 'Cloudy'], ['Cloudy', 'Mostly Cloudy'], ['Rain', 'Cloudy'], ['Rain', 'Snow'], ['Cloudy', 'Rain'], ['Rain', 'Cloudy'], ['Cloudy', 'Rain'], ['Cloudy', 'Rain'], ['Clear', 'Mostly Cloudy'], ['Mostly Cloudy', 'Rain'], ['Clear', 'Mostly Cloudy'], ['Rain', 'Cloudy'], ['Cloudy', 'Mostly Cloudy'], ['Cloudy', 'Rain'], ['Cloudy', 'Mostly Cloudy'], ['Snow', 'Cloudy'], ['Rain', 'Cloudy'], ['Clear', 'Mostly Cloudy'], ['Cloudy', 'Rain'], ['Mostly Cloudy', 'Clear'], ['Rain', 'Mostly Cloudy'], ['Cloudy', 'Mostly Cloudy'], ['Rain', 'Cloudy'], ['Cloudy', 'Mostly Cloudy'], ['Cloudy', 'Mostly Cloudy'], ['Mostly Cloudy', 'Clear'], ['Cloudy', 'Mostly Cloudy'], ['Cloudy', 'Mostly Cloudy'], ['Rain', 'Cloudy'], ['Cloudy', 'Rain'], ['Rain', 'Cloudy'], ['Cloudy', 'Mostly Cloudy'], ['Cloudy', 'Mostly Cloudy'], ['Clear', 'Cloudy'], ['Rain', 'Cloudy'], ['Mostly Cloudy', 'Cloudy'], ['Cloudy', 'Rain'], ['Rain', 'Clear'], ['Rain', 'Cloudy'], ['Cloudy', 'Mostly Cloudy'], ['Cloudy', 'Rain'], ['Rain', 'Cloudy'], ['Cloudy', 'Rain'], ['Clear', 'Mostly Cloudy'], ['Cloudy', 'Mostly Cloudy'], ['Cloudy', 'Mostly Cloudy'], ['Clear', 'Mostly Cloudy'], ['Mostly Cloudy', 'Cloudy'], ['Cloudy', 'Mostly Cloudy'], ['Mostly Cloudy', 'Clear'], ['Cloudy', 'Rain'], ['Rain', 'Cloudy'], ['Mostly Cloudy', 'Clear'], ['Cloudy', 'Mostly Cloudy'], ['Cloudy', 'Clear'], ['Cloudy', 'Mostly Cloudy'], ['Cloudy', 'Rain'], ['Clear', 'Mostly Cloudy'], ['Mostly Cloudy', 'Cloudy'], ['Cloudy', 'Clear'], ['Clear', 'Mostly Cloudy'], ['Rain', 'Cloudy'], ['Mostly Cloudy', 'Clear'], ['Clear', 'Mostly Cloudy'], ['Clear', 'Mostly Cloudy'], ['Cloudy', 'Mostly Cloudy'], ['Cloudy', 'Rain'], ['Rain', 'Cloudy'], ['Cloudy', 'Rain'], ['Rain', 'Mostly Cloudy'], ['Mostly Cloudy', 'Cloudy'], ['Mostly Cloudy', 'Cloudy'], ['Clear', 'Mostly Cloudy'], ['Clear', 'Mostly Cloudy'], ['Cloudy', 'Rain'], ['Rain', 'Cloudy'], ['Mostly Cloudy', 'Cloudy'], ['Cloudy', 'Rain'], ['Cloudy', 'Rain'], ['Mostly Cloudy', 'Cloudy'], ['Rain', 'Cloudy'], ['Cloudy', 'Mostly Cloudy'], ['Cloudy', 'Mostly Cloudy'], ['Clear', 'Mostly Cloudy'], ['Cloudy', 'Mostly Cloudy'], ['Cloudy', 'Rain'], ['Mostly Cloudy', 'Cloudy'], ['Cloudy', 'Mostly Cloudy'], ['Rain', 'Mostly Cloudy'], ['Mostly Cloudy', 'Clear'], ['Cloudy', 'Rain'], ['Cloudy', 'Mostly Cloudy'], ['Cloudy', 'Mostly Cloudy'], ['Cloudy', 'Mostly Cloudy'], ['Rain', 'Mostly Cloudy'], ['Rain', 'Clear'], ['Rain', 'Mostly Cloudy'], ['Mostly Cloudy', 'Cloudy'], ['Rain', 'Mostly Cloudy'], ['Rain', 'Mostly Cloudy'], ['Mostly Cloudy', 'Rain'], ['Cloudy', 'Rain'], ['Clear', 'Mostly Cloudy'], ['Cloudy', 'Mostly Cloudy'], ['Rain', 'Cloudy'], ['Clear', 'Mostly Cloudy'], ['Cloudy', 'Mostly Cloudy'], ['Cloudy', 'Mostly Cloudy'], ['Cloudy', 'Rain'], ['Rain', 'Snow'], ['Clear', 'Mostly Cloudy'], ['Cloudy', 'Rain'], ['Cloudy', 'Mostly Cloudy'], ['Clear', 'Mostly Cloudy'], ['Rain', 'Cloudy'], ['Rain', 'Cloudy'], ['Cloudy', 'Mostly Cloudy'], ['Rain', 'Mostly Cloudy'], ['Snow', 'Cloudy'], ['Rain', 'Cloudy'], ['Cloudy', 'Rain'], ['Cloudy', 'Snow'], ['Rain', 'Cloudy'], ['Rain', 'Clear'], ['Cloudy', 'Mostly Cloudy'], ['Cloudy', 'Mostly Cloudy'], ['Cloudy', 'Rain'], ['Cloudy', 'Mostly Cloudy'], ['Mostly Cloudy', 'Cloudy'], ['Mostly Cloudy', 'Cloudy'], ['Cloudy', 'Rain'], ['Rain', 'Cloudy'], ['Mostly Cloudy', 'Cloudy'], ['Rain', 'Cloudy'], ['Rain', 'Mostly Cloudy'], ['Mostly Cloudy', 'Cloudy'], ['Rain', 'Cloudy'], ['Cloudy', 'Mostly Cloudy'], ['Cloudy', 'Rain'], ['Rain', 'Cloudy'], ['Rain', 'Cloudy'], ['Clear', 'Mostly Cloudy'], ['Cloudy', 'Rain'], ['Cloudy', 'Mostly Cloudy']]\n"
     ]
    }
   ],
   "source": [
    "svc_rgb = SVC(C=51)\n",
    "svc_rgb.fit(X_train, y_train) \n",
    "errors = []\n",
    "pred = svc_rgb.predict(X_test)\n",
    "for i in range(0,len(y_test)):\n",
    "    if(pred[i] != y_test[i]):\n",
    "        errors.append([pred[i],y_test[i]])\n",
    "print(errors)"
   ]
  },
  {
   "cell_type": "code",
   "execution_count": 81,
   "metadata": {},
   "outputs": [],
   "source": [
    "X_cloudy  = np.array(data[data.iloc[0:,-1] == 'Cloudy'].iloc[0:,1:-1])\n",
    "X_rain  = np.array(data[data.iloc[0:,-1] == 'Rain'].iloc[0:,1:-1])\n"
   ]
  },
  {
   "cell_type": "code",
   "execution_count": 87,
   "metadata": {},
   "outputs": [
    {
     "data": {
      "text/plain": [
       "(432, 1800)"
      ]
     },
     "execution_count": 87,
     "metadata": {},
     "output_type": "execute_result"
    }
   ],
   "source": [
    "np.shape(X_cloudy)"
   ]
  },
  {
   "cell_type": "code",
   "execution_count": 82,
   "metadata": {},
   "outputs": [
    {
     "name": "stderr",
     "output_type": "stream",
     "text": [
      "C:\\ProgramData\\Anaconda3\\lib\\site-packages\\sklearn\\utils\\validation.py:444: DataConversionWarning: Data with input dtype int64 was converted to float64 by MinMaxScaler.\n",
      "  warnings.warn(msg, DataConversionWarning)\n"
     ]
    }
   ],
   "source": [
    "frame = np.concatenate((X_cloudy,X_rain),axis = 0)\n",
    "frame = get_pca(frame)\n"
   ]
  },
  {
   "cell_type": "code",
   "execution_count": 91,
   "metadata": {},
   "outputs": [
    {
     "name": "stdout",
     "output_type": "stream",
     "text": [
      "[[-2.67509309  1.44869088]\n",
      " [ 2.68193811 -1.67992168]\n",
      " [-0.78799622 -0.83846319]\n",
      " ..., \n",
      " [-7.6858219   0.4625438 ]\n",
      " [-5.20376887 -0.27160735]\n",
      " [-4.89608169  0.06873514]]\n"
     ]
    }
   ],
   "source": [
    "print(frame)"
   ]
  },
  {
   "cell_type": "code",
   "execution_count": 97,
   "metadata": {},
   "outputs": [
    {
     "data": {
      "image/png": "[encoded data removed]",
      "text/plain": [
       "<matplotlib.figure.Figure at 0x21dac161d30>"
      ]
     },
     "metadata": {},
     "output_type": "display_data"
    },
    {
     "data": {
      "text/plain": [
       "<matplotlib.figure.Figure at 0x21da4f19080>"
      ]
     },
     "metadata": {},
     "output_type": "display_data"
    }
   ],
   "source": [
    "clusters = get_clusters(frame)\n",
    "plt.scatter(frame[:,0], frame[:,1], c=clusters, cmap='tab10', edgecolor='k', s=20)\n",
    "plt.figure(figsize=(50,50))\n",
    "plt.show()\n",
    "##plt.savefig('clusters.png')\n"
   ]
  },
  {
   "cell_type": "code",
   "execution_count": null,
   "metadata": {
    "collapsed": true
   },
   "outputs": [],
   "source": []
  }
 ],
 "metadata": {
  "kernelspec": {
   "display_name": "Python 3",
   "language": "python",
   "name": "python3"
  },
  "language_info": {
   "codemirror_mode": {
    "name": "ipython",
    "version": 3
   },
   "file_extension": ".py",
   "mimetype": "text/x-python",
   "name": "python",
   "nbconvert_exporter": "python",
   "pygments_lexer": "ipython3",
   "version": "3.6.2"
  }
 },
 "nbformat": 4,
 "nbformat_minor": 2
}
