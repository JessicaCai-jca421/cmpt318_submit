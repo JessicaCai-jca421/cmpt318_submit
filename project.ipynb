{
 "cells": [
  {
   "cell_type": "code",
   "execution_count": 1,
   "metadata": {
    "collapsed": true
   },
   "outputs": [],
   "source": [
    "import numpy as np\n",
    "import pandas as pd\n",
    "import matplotlib.pyplot as plt\n",
    "import sys"
   ]
  },
  {
   "cell_type": "code",
   "execution_count": 2,
   "metadata": {
    "collapsed": true
   },
   "outputs": [],
   "source": [
    "from sklearn.pipeline import make_pipeline\n",
    "from sklearn.preprocessing import MinMaxScaler"
   ]
  },
  {
   "cell_type": "code",
   "execution_count": 3,
   "metadata": {
    "collapsed": true
   },
   "outputs": [],
   "source": [
    "from sklearn.preprocessing import StandardScaler\n",
    "from sklearn.decomposition import PCA\n",
    "from sklearn.cluster import KMeans\n",
    "from sklearn import model_selection"
   ]
  },
  {
   "cell_type": "code",
   "execution_count": 4,
   "metadata": {
    "collapsed": true
   },
   "outputs": [],
   "source": [
    "from sklearn.svm import SVC\n",
    "from sklearn.neighbors import KNeighborsClassifier\n",
    "from sklearn.naive_bayes import GaussianNB"
   ]
  },
  {
   "cell_type": "code",
   "execution_count": 5,
   "metadata": {
    "collapsed": true
   },
   "outputs": [],
   "source": [
    "from sklearn.neural_network import MLPClassifier"
   ]
  },
  {
   "cell_type": "code",
   "execution_count": 6,
   "metadata": {
    "collapsed": true
   },
   "outputs": [],
   "source": [
    "data = pd.read_csv('weather_re_4.csv')"
   ]
  },
  {
   "cell_type": "code",
   "execution_count": null,
   "metadata": {
    "scrolled": false
   },
   "outputs": [],
   "source": []
  },
  {
   "cell_type": "code",
   "execution_count": 188,
   "metadata": {
    "collapsed": true
   },
   "outputs": [],
   "source": [
    "def get_clusters(X):\n",
    "    \"\"\"\n",
    "    Find clusters of the weather data.\n",
    "    \"\"\"\n",
    "    model = make_pipeline(\n",
    "        KMeans(n_clusters=2)\n",
    "    )\n",
    "    model.fit(X)\n",
    "    return model.predict(X)\n"
   ]
  },
  {
   "cell_type": "code",
   "execution_count": 189,
   "metadata": {
    "collapsed": true
   },
   "outputs": [],
   "source": [
    "def get_pca(X):\n",
    "    \"\"\"\n",
    "    Transform data to 2D points for plotting. Should return an array with shape (n, 2).\n",
    "    \"\"\"\n",
    "    flatten_model = make_pipeline(\n",
    "        PCA(n_components=250)\n",
    "    )\n",
    "    X = flatten_model.fit_transform(X)\n",
    "    assert X.shape == (X.shape[0], 250)\n",
    "    return X"
   ]
  },
  {
   "cell_type": "code",
   "execution_count": 194,
   "metadata": {
    "scrolled": true
   },
   "outputs": [],
   "source": [
    "# use pandas build in function to add column \"if_none\"\n",
    "# True when weather is none\n",
    "ans = pd.isnull(data['weather'])\n",
    "data['if_none'] = ans\n"
   ]
  },
  {
   "cell_type": "code",
   "execution_count": 195,
   "metadata": {
    "collapsed": true
   },
   "outputs": [],
   "source": [
    "# split data into X:rgb + if_none\n",
    "# y: fileed in weather\n",
    "X = data.iloc[:,7:]\n",
    "y = data.iloc[:,6]\n",
    "y = np.array(y)\n",
    "X = np.array(X.values)\n",
    "#X2 = get_pca(X)\n"
   ]
  },
  {
   "cell_type": "code",
   "execution_count": 284,
   "metadata": {},
   "outputs": [],
   "source": [
    "X_train, X_test, y_train, y_test = model_selection.train_test_split(X, y)"
   ]
  },
  {
   "cell_type": "code",
   "execution_count": 285,
   "metadata": {},
   "outputs": [],
   "source": [
    "# split if_none and rgb value\n",
    "X_train = X_train[:,:-1]\n",
    "X_result = X_test[:,-1]\n",
    "X_test = X_test[:,:-1]"
   ]
  },
  {
   "cell_type": "code",
   "execution_count": 286,
   "metadata": {},
   "outputs": [],
   "source": [
    "# collect all false index(ones who have observed data)\n",
    "# keep only those data in dataframe\n",
    "collect = []\n",
    "for i in range (0,len(X_result)):\n",
    "    if not(X_result[i]):\n",
    "        collect.append(i)\n",
    "X_test = X_test[collect]\n",
    "y_test = y_test[collect]"
   ]
  },
  {
   "cell_type": "code",
   "execution_count": 287,
   "metadata": {},
   "outputs": [
    {
     "name": "stdout",
     "output_type": "stream",
     "text": [
      "475\n"
     ]
    }
   ],
   "source": [
    "#PCA data frame\n",
    "X_test = get_pca(X_test)\n",
    "X_train = get_pca(X_train)\n",
    "print(len(X_test))"
   ]
  },
  {
   "cell_type": "code",
   "execution_count": 288,
   "metadata": {},
   "outputs": [
    {
     "name": "stdout",
     "output_type": "stream",
     "text": [
      "0.618947368421\n"
     ]
    }
   ],
   "source": [
    "#KNN\n",
    "arr = []\n",
    "for i in range (1,100,20):\n",
    "    KNN = KNeighborsClassifier(n_neighbors=i)\n",
    "    KNN.fit(X_train, y_train) \n",
    "    arr.append(KNN.score(X_test,y_test))\n",
    "print(max(arr))\n"
   ]
  },
  {
   "cell_type": "code",
   "execution_count": 180,
   "metadata": {},
   "outputs": [
    {
     "name": "stdout",
     "output_type": "stream",
     "text": [
      "0.404661016949\n"
     ]
    }
   ],
   "source": [
    "#Naive bayse\n",
    "arr2 = []\n",
    "clf = GaussianNB()\n",
    "clf.fit(X_train, y_train)\n",
    "print(clf.score(X_test,y_test))"
   ]
  },
  {
   "cell_type": "code",
   "execution_count": 36,
   "metadata": {},
   "outputs": [
    {
     "name": "stdout",
     "output_type": "stream",
     "text": [
      "0.494836488812\n"
     ]
    }
   ],
   "source": [
    "#SVC\n",
    "arr = []\n",
    "svc_model = SVC(C=10)\n",
    "svc_model.fit(X_train, y_train) \n",
    "print(svc_model.score(X_test,y_test))"
   ]
  },
  {
   "cell_type": "code",
   "execution_count": 16,
   "metadata": {
    "collapsed": true
   },
   "outputs": [],
   "source": [
    "#collect all mis-predicted weathers\n",
    "svc_rgb = SVC(C=51)\n",
    "svc_rgb.fit(X_train, y_train) \n",
    "errors = []\n",
    "pred = svc_rgb.predict(X_test)\n",
    "for i in range(0,len(y_test)):\n",
    "    if(pred[i] != y_test[i]):\n",
    "        errors.append([pred[i],y_test[i]])\n"
   ]
  },
  {
   "cell_type": "code",
   "execution_count": 17,
   "metadata": {},
   "outputs": [
    {
     "name": "stdout",
     "output_type": "stream",
     "text": [
      "[['Cloudy', 'Clear'], ['Cloudy', 'Clear'], ['Cloudy', 'Rain'], ['Cloudy', 'Rain'], ['Cloudy', 'Clear'], ['Cloudy', 'Clear'], ['Cloudy', 'Clear'], ['Cloudy', 'Clear'], ['Cloudy', 'Snow'], ['Cloudy', 'Rain'], ['Cloudy', 'Clear'], ['Cloudy', 'Rain'], ['Cloudy', 'Clear'], ['Cloudy', 'Clear'], ['Cloudy', 'Rain'], ['Cloudy', 'Clear'], ['Cloudy', 'Clear'], ['Cloudy', 'Rain'], ['Cloudy', 'Clear'], ['Cloudy', 'Rain'], ['Cloudy', 'Clear'], ['Cloudy', 'Clear'], ['Cloudy', 'Clear'], ['Cloudy', 'Clear'], ['Cloudy', 'Rain'], ['Cloudy', 'Clear'], ['Cloudy', 'Clear'], ['Cloudy', 'Rain'], ['Cloudy', 'Clear'], ['Cloudy', 'Clear'], ['Cloudy', 'Clear'], ['Cloudy', 'Clear'], ['Cloudy', 'Rain'], ['Cloudy', 'Rain'], ['Cloudy', 'Rain'], ['Cloudy', 'Clear'], ['Cloudy', 'Rain'], ['Cloudy', 'Rain'], ['Cloudy', 'Rain'], ['Cloudy', 'Rain'], ['Cloudy', 'Clear'], ['Cloudy', 'Rain'], ['Cloudy', 'Clear'], ['Cloudy', 'Clear'], ['Cloudy', 'Clear'], ['Cloudy', 'Clear'], ['Cloudy', 'Rain'], ['Cloudy', 'Snow'], ['Cloudy', 'Rain'], ['Cloudy', 'Rain'], ['Cloudy', 'Clear'], ['Cloudy', 'Rain'], ['Cloudy', 'Clear'], ['Cloudy', 'Clear'], ['Cloudy', 'Clear'], ['Cloudy', 'Clear'], ['Cloudy', 'Rain'], ['Cloudy', 'Clear'], ['Cloudy', 'Snow'], ['Cloudy', 'Clear'], ['Cloudy', 'Clear'], ['Cloudy', 'Snow'], ['Cloudy', 'Clear'], ['Cloudy', 'Rain'], ['Cloudy', 'Clear'], ['Cloudy', 'Clear'], ['Cloudy', 'Clear'], ['Cloudy', 'Clear'], ['Cloudy', 'Clear'], ['Cloudy', 'Clear'], ['Cloudy', 'Clear'], ['Cloudy', 'Rain'], ['Cloudy', 'Clear'], ['Cloudy', 'Rain'], ['Cloudy', 'Clear'], ['Cloudy', 'Rain'], ['Cloudy', 'Rain'], ['Cloudy', 'Clear'], ['Cloudy', 'Rain'], ['Cloudy', 'Clear'], ['Cloudy', 'Clear'], ['Cloudy', 'Clear'], ['Cloudy', 'Rain'], ['Cloudy', 'Clear'], ['Cloudy', 'Clear'], ['Cloudy', 'Rain'], ['Cloudy', 'Clear'], ['Cloudy', 'Rain'], ['Cloudy', 'Rain'], ['Cloudy', 'Clear'], ['Cloudy', 'Rain'], ['Cloudy', 'Rain'], ['Cloudy', 'Rain'], ['Cloudy', 'Rain'], ['Cloudy', 'Clear'], ['Cloudy', 'Clear'], ['Cloudy', 'Rain'], ['Cloudy', 'Rain'], ['Cloudy', 'Rain'], ['Cloudy', 'Clear'], ['Cloudy', 'Rain'], ['Cloudy', 'Clear'], ['Cloudy', 'Clear'], ['Cloudy', 'Clear'], ['Cloudy', 'Clear'], ['Cloudy', 'Rain'], ['Cloudy', 'Clear'], ['Cloudy', 'Clear'], ['Cloudy', 'Rain'], ['Cloudy', 'Clear'], ['Cloudy', 'Rain'], ['Cloudy', 'Clear'], ['Cloudy', 'Clear'], ['Cloudy', 'Rain'], ['Cloudy', 'Clear'], ['Cloudy', 'Clear'], ['Cloudy', 'Rain'], ['Cloudy', 'Clear'], ['Cloudy', 'Clear'], ['Cloudy', 'Clear'], ['Cloudy', 'Snow'], ['Cloudy', 'Rain'], ['Cloudy', 'Rain'], ['Cloudy', 'Rain'], ['Cloudy', 'Clear'], ['Cloudy', 'Rain'], ['Cloudy', 'Clear'], ['Cloudy', 'Rain'], ['Cloudy', 'Rain'], ['Cloudy', 'Clear'], ['Cloudy', 'Clear'], ['Cloudy', 'Clear'], ['Cloudy', 'Clear'], ['Cloudy', 'Clear'], ['Cloudy', 'Rain'], ['Cloudy', 'Clear'], ['Cloudy', 'Rain'], ['Cloudy', 'Rain'], ['Cloudy', 'Rain'], ['Cloudy', 'Rain'], ['Cloudy', 'Clear'], ['Cloudy', 'Clear'], ['Cloudy', 'Rain'], ['Cloudy', 'Clear'], ['Cloudy', 'Clear'], ['Cloudy', 'Clear'], ['Cloudy', 'Rain'], ['Cloudy', 'Clear'], ['Cloudy', 'Clear'], ['Cloudy', 'Clear'], ['Cloudy', 'Rain'], ['Cloudy', 'Clear'], ['Cloudy', 'Clear'], ['Cloudy', 'Rain'], ['Cloudy', 'Rain'], ['Cloudy', 'Rain'], ['Cloudy', 'Rain'], ['Cloudy', 'Rain'], ['Cloudy', 'Clear'], ['Cloudy', 'Rain'], ['Cloudy', 'Rain'], ['Cloudy', 'Clear'], ['Cloudy', 'Rain'], ['Cloudy', 'Clear'], ['Cloudy', 'Clear'], ['Cloudy', 'Clear'], ['Cloudy', 'Clear'], ['Cloudy', 'Rain'], ['Cloudy', 'Rain'], ['Cloudy', 'Clear'], ['Cloudy', 'Rain'], ['Cloudy', 'Clear'], ['Cloudy', 'Clear'], ['Cloudy', 'Rain'], ['Cloudy', 'Clear'], ['Cloudy', 'Clear'], ['Cloudy', 'Rain'], ['Cloudy', 'Rain'], ['Cloudy', 'Clear'], ['Cloudy', 'Rain'], ['Cloudy', 'Rain'], ['Cloudy', 'Clear'], ['Cloudy', 'Clear'], ['Cloudy', 'Clear'], ['Cloudy', 'Rain'], ['Cloudy', 'Clear'], ['Cloudy', 'Clear'], ['Cloudy', 'Clear'], ['Cloudy', 'Clear'], ['Cloudy', 'Rain'], ['Cloudy', 'Clear'], ['Cloudy', 'Rain'], ['Cloudy', 'Clear'], ['Cloudy', 'Rain'], ['Cloudy', 'Clear'], ['Cloudy', 'Rain'], ['Cloudy', 'Clear'], ['Cloudy', 'Clear'], ['Cloudy', 'Clear'], ['Cloudy', 'Clear'], ['Cloudy', 'Clear'], ['Cloudy', 'Clear'], ['Cloudy', 'Clear'], ['Cloudy', 'Rain'], ['Cloudy', 'Clear'], ['Cloudy', 'Clear'], ['Cloudy', 'Rain'], ['Cloudy', 'Rain'], ['Cloudy', 'Clear'], ['Cloudy', 'Clear'], ['Cloudy', 'Clear'], ['Cloudy', 'Clear'], ['Cloudy', 'Clear'], ['Cloudy', 'Clear'], ['Cloudy', 'Rain'], ['Cloudy', 'Clear'], ['Cloudy', 'Clear'], ['Cloudy', 'Clear'], ['Cloudy', 'Rain'], ['Cloudy', 'Clear'], ['Cloudy', 'Clear'], ['Cloudy', 'Rain'], ['Cloudy', 'Clear'], ['Cloudy', 'Snow'], ['Cloudy', 'Clear'], ['Cloudy', 'Clear'], ['Cloudy', 'Clear'], ['Cloudy', 'Snow'], ['Cloudy', 'Clear'], ['Cloudy', 'Clear'], ['Cloudy', 'Clear'], ['Cloudy', 'Clear'], ['Cloudy', 'Clear'], ['Cloudy', 'Clear'], ['Cloudy', 'Clear'], ['Cloudy', 'Clear'], ['Cloudy', 'Clear'], ['Cloudy', 'Clear'], ['Cloudy', 'Rain'], ['Cloudy', 'Clear'], ['Cloudy', 'Rain'], ['Cloudy', 'Rain'], ['Cloudy', 'Rain'], ['Cloudy', 'Clear'], ['Cloudy', 'Clear'], ['Cloudy', 'Clear'], ['Cloudy', 'Snow'], ['Cloudy', 'Clear'], ['Cloudy', 'Rain'], ['Cloudy', 'Rain'], ['Cloudy', 'Clear'], ['Cloudy', 'Clear'], ['Cloudy', 'Clear'], ['Cloudy', 'Clear'], ['Cloudy', 'Rain'], ['Cloudy', 'Clear'], ['Cloudy', 'Clear'], ['Cloudy', 'Clear'], ['Cloudy', 'Rain'], ['Cloudy', 'Rain'], ['Cloudy', 'Clear'], ['Cloudy', 'Clear'], ['Cloudy', 'Clear'], ['Cloudy', 'Rain'], ['Cloudy', 'Clear'], ['Cloudy', 'Rain'], ['Cloudy', 'Clear'], ['Cloudy', 'Clear'], ['Cloudy', 'Rain'], ['Cloudy', 'Clear'], ['Cloudy', 'Clear'], ['Cloudy', 'Clear'], ['Cloudy', 'Clear'], ['Cloudy', 'Rain'], ['Cloudy', 'Rain'], ['Cloudy', 'Clear'], ['Cloudy', 'Clear'], ['Cloudy', 'Clear'], ['Cloudy', 'Clear'], ['Cloudy', 'Clear'], ['Cloudy', 'Clear'], ['Cloudy', 'Clear'], ['Cloudy', 'Rain'], ['Cloudy', 'Clear'], ['Cloudy', 'Rain'], ['Cloudy', 'Clear'], ['Cloudy', 'Clear'], ['Cloudy', 'Clear'], ['Cloudy', 'Clear'], ['Cloudy', 'Clear'], ['Cloudy', 'Clear'], ['Cloudy', 'Rain'], ['Cloudy', 'Rain'], ['Cloudy', 'Snow'], ['Cloudy', 'Clear'], ['Cloudy', 'Rain'], ['Cloudy', 'Rain'], ['Cloudy', 'Rain'], ['Cloudy', 'Clear'], ['Cloudy', 'Rain'], ['Cloudy', 'Clear'], ['Cloudy', 'Clear'], ['Cloudy', 'Clear'], ['Cloudy', 'Clear'], ['Cloudy', 'Clear'], ['Cloudy', 'Rain'], ['Cloudy', 'Clear'], ['Cloudy', 'Clear'], ['Cloudy', 'Clear'], ['Cloudy', 'Clear'], ['Cloudy', 'Clear'], ['Cloudy', 'Clear'], ['Cloudy', 'Clear'], ['Cloudy', 'Rain'], ['Cloudy', 'Clear'], ['Cloudy', 'Clear'], ['Cloudy', 'Clear'], ['Cloudy', 'Rain'], ['Cloudy', 'Clear'], ['Cloudy', 'Clear'], ['Cloudy', 'Rain'], ['Cloudy', 'Clear'], ['Cloudy', 'Clear'], ['Cloudy', 'Rain'], ['Cloudy', 'Rain'], ['Cloudy', 'Clear'], ['Cloudy', 'Clear'], ['Cloudy', 'Rain'], ['Cloudy', 'Rain'], ['Cloudy', 'Rain'], ['Cloudy', 'Rain'], ['Cloudy', 'Clear'], ['Cloudy', 'Clear'], ['Cloudy', 'Clear'], ['Cloudy', 'Rain'], ['Cloudy', 'Rain'], ['Cloudy', 'Clear'], ['Cloudy', 'Clear'], ['Cloudy', 'Clear'], ['Cloudy', 'Clear'], ['Cloudy', 'Clear'], ['Cloudy', 'Rain'], ['Cloudy', 'Clear'], ['Cloudy', 'Clear'], ['Cloudy', 'Clear'], ['Cloudy', 'Rain'], ['Cloudy', 'Rain'], ['Cloudy', 'Clear'], ['Cloudy', 'Clear'], ['Cloudy', 'Rain'], ['Cloudy', 'Clear'], ['Cloudy', 'Clear'], ['Cloudy', 'Rain'], ['Cloudy', 'Rain'], ['Cloudy', 'Rain'], ['Cloudy', 'Rain'], ['Cloudy', 'Clear'], ['Cloudy', 'Rain'], ['Cloudy', 'Clear'], ['Cloudy', 'Rain'], ['Cloudy', 'Clear'], ['Cloudy', 'Clear'], ['Cloudy', 'Clear'], ['Cloudy', 'Rain'], ['Cloudy', 'Rain'], ['Cloudy', 'Clear'], ['Cloudy', 'Rain'], ['Cloudy', 'Rain'], ['Cloudy', 'Clear'], ['Cloudy', 'Clear'], ['Cloudy', 'Clear'], ['Cloudy', 'Clear'], ['Cloudy', 'Clear'], ['Cloudy', 'Clear'], ['Cloudy', 'Clear'], ['Cloudy', 'Rain'], ['Cloudy', 'Clear'], ['Cloudy', 'Clear'], ['Cloudy', 'Rain'], ['Cloudy', 'Clear'], ['Cloudy', 'Rain'], ['Cloudy', 'Clear'], ['Cloudy', 'Rain'], ['Cloudy', 'Rain'], ['Cloudy', 'Clear'], ['Cloudy', 'Clear'], ['Cloudy', 'Clear'], ['Cloudy', 'Rain'], ['Cloudy', 'Snow'], ['Cloudy', 'Clear'], ['Cloudy', 'Rain'], ['Cloudy', 'Clear'], ['Cloudy', 'Rain'], ['Cloudy', 'Clear'], ['Cloudy', 'Rain'], ['Cloudy', 'Rain'], ['Cloudy', 'Clear'], ['Cloudy', 'Clear'], ['Cloudy', 'Clear'], ['Cloudy', 'Rain'], ['Cloudy', 'Clear'], ['Cloudy', 'Clear'], ['Cloudy', 'Rain'], ['Cloudy', 'Rain'], ['Cloudy', 'Snow'], ['Cloudy', 'Clear'], ['Cloudy', 'Clear'], ['Cloudy', 'Clear'], ['Cloudy', 'Clear'], ['Cloudy', 'Snow'], ['Cloudy', 'Rain'], ['Cloudy', 'Clear'], ['Cloudy', 'Rain'], ['Cloudy', 'Clear'], ['Cloudy', 'Rain'], ['Cloudy', 'Rain'], ['Cloudy', 'Clear'], ['Cloudy', 'Clear'], ['Cloudy', 'Rain'], ['Cloudy', 'Rain'], ['Cloudy', 'Clear'], ['Cloudy', 'Clear'], ['Cloudy', 'Clear'], ['Cloudy', 'Rain'], ['Cloudy', 'Clear'], ['Cloudy', 'Clear'], ['Cloudy', 'Clear'], ['Cloudy', 'Rain'], ['Cloudy', 'Clear'], ['Cloudy', 'Rain'], ['Cloudy', 'Rain'], ['Cloudy', 'Rain'], ['Cloudy', 'Clear'], ['Cloudy', 'Clear'], ['Cloudy', 'Clear'], ['Cloudy', 'Clear'], ['Cloudy', 'Clear'], ['Cloudy', 'Rain'], ['Cloudy', 'Rain'], ['Cloudy', 'Rain'], ['Cloudy', 'Clear'], ['Cloudy', 'Rain'], ['Cloudy', 'Clear'], ['Cloudy', 'Clear'], ['Cloudy', 'Clear'], ['Cloudy', 'Rain'], ['Cloudy', 'Rain'], ['Cloudy', 'Clear'], ['Cloudy', 'Snow'], ['Cloudy', 'Clear'], ['Cloudy', 'Clear'], ['Cloudy', 'Clear'], ['Cloudy', 'Clear'], ['Cloudy', 'Rain'], ['Cloudy', 'Clear'], ['Cloudy', 'Rain'], ['Cloudy', 'Clear'], ['Cloudy', 'Clear'], ['Cloudy', 'Clear'], ['Cloudy', 'Rain'], ['Cloudy', 'Rain'], ['Cloudy', 'Clear'], ['Cloudy', 'Clear'], ['Cloudy', 'Rain'], ['Cloudy', 'Clear'], ['Cloudy', 'Rain'], ['Cloudy', 'Clear'], ['Cloudy', 'Rain'], ['Cloudy', 'Snow'], ['Cloudy', 'Clear'], ['Cloudy', 'Clear'], ['Cloudy', 'Rain'], ['Cloudy', 'Clear'], ['Cloudy', 'Rain'], ['Cloudy', 'Rain'], ['Cloudy', 'Clear'], ['Cloudy', 'Rain'], ['Cloudy', 'Rain'], ['Cloudy', 'Clear'], ['Cloudy', 'Clear'], ['Cloudy', 'Rain'], ['Cloudy', 'Rain'], ['Cloudy', 'Clear'], ['Cloudy', 'Clear'], ['Cloudy', 'Clear'], ['Cloudy', 'Clear'], ['Cloudy', 'Rain'], ['Cloudy', 'Clear'], ['Cloudy', 'Clear'], ['Cloudy', 'Clear'], ['Cloudy', 'Rain'], ['Cloudy', 'Clear'], ['Cloudy', 'Rain'], ['Cloudy', 'Clear'], ['Cloudy', 'Clear'], ['Cloudy', 'Rain'], ['Cloudy', 'Clear'], ['Cloudy', 'Rain'], ['Cloudy', 'Rain'], ['Cloudy', 'Clear'], ['Cloudy', 'Rain'], ['Cloudy', 'Rain'], ['Cloudy', 'Clear'], ['Cloudy', 'Clear'], ['Cloudy', 'Rain'], ['Cloudy', 'Rain'], ['Cloudy', 'Clear'], ['Cloudy', 'Clear'], ['Cloudy', 'Clear'], ['Cloudy', 'Clear'], ['Cloudy', 'Rain'], ['Cloudy', 'Rain'], ['Cloudy', 'Rain'], ['Cloudy', 'Clear'], ['Cloudy', 'Clear'], ['Cloudy', 'Rain'], ['Cloudy', 'Clear'], ['Cloudy', 'Snow'], ['Cloudy', 'Clear'], ['Cloudy', 'Rain'], ['Cloudy', 'Clear'], ['Cloudy', 'Snow'], ['Cloudy', 'Clear'], ['Cloudy', 'Clear'], ['Cloudy', 'Rain'], ['Cloudy', 'Clear'], ['Cloudy', 'Clear'], ['Cloudy', 'Clear'], ['Cloudy', 'Clear'], ['Cloudy', 'Rain'], ['Cloudy', 'Clear'], ['Cloudy', 'Rain'], ['Cloudy', 'Rain'], ['Cloudy', 'Rain'], ['Cloudy', 'Clear'], ['Cloudy', 'Rain'], ['Cloudy', 'Rain'], ['Cloudy', 'Clear'], ['Cloudy', 'Clear'], ['Cloudy', 'Rain'], ['Cloudy', 'Clear'], ['Cloudy', 'Rain'], ['Cloudy', 'Clear'], ['Cloudy', 'Rain'], ['Cloudy', 'Clear'], ['Cloudy', 'Clear'], ['Cloudy', 'Rain'], ['Cloudy', 'Rain'], ['Cloudy', 'Rain'], ['Cloudy', 'Clear'], ['Cloudy', 'Clear'], ['Cloudy', 'Clear'], ['Cloudy', 'Rain'], ['Cloudy', 'Rain'], ['Cloudy', 'Clear'], ['Cloudy', 'Rain'], ['Cloudy', 'Rain'], ['Cloudy', 'Rain'], ['Cloudy', 'Clear'], ['Cloudy', 'Rain'], ['Cloudy', 'Clear'], ['Cloudy', 'Clear'], ['Cloudy', 'Clear'], ['Cloudy', 'Rain'], ['Cloudy', 'Clear'], ['Cloudy', 'Rain'], ['Cloudy', 'Clear'], ['Cloudy', 'Clear'], ['Cloudy', 'Clear'], ['Cloudy', 'Rain'], ['Cloudy', 'Clear'], ['Cloudy', 'Clear'], ['Cloudy', 'Clear'], ['Cloudy', 'Clear'], ['Cloudy', 'Clear'], ['Cloudy', 'Clear']]\n"
     ]
    }
   ],
   "source": [
    "print(errors)"
   ]
  },
  {
   "cell_type": "code",
   "execution_count": null,
   "metadata": {
    "collapsed": true
   },
   "outputs": [],
   "source": [
    "clusters = get_clusters(frame)\n",
    "plt.scatter(frame[:,0], frame[:,1], c=clusters, cmap='tab10', edgecolor='k', s=20)\n",
    "plt.figure(figsize=(50,50))\n",
    "plt.show()\n",
    "##plt.savefig('clusters.png')\n"
   ]
  }
 ],
 "metadata": {
  "kernelspec": {
   "display_name": "Python 3",
   "language": "python",
   "name": "python3"
  },
  "language_info": {
   "codemirror_mode": {
    "name": "ipython",
    "version": 3
   },
   "file_extension": ".py",
   "mimetype": "text/x-python",
   "name": "python",
   "nbconvert_exporter": "python",
   "pygments_lexer": "ipython3",
   "version": "3.6.2"
  }
 },
 "nbformat": 4,
 "nbformat_minor": 2
}
